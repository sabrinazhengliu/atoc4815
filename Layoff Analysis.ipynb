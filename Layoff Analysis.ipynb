{
 "cells": [
  {
   "cell_type": "code",
   "execution_count": 1,
   "id": "1eda1c62-35ac-440c-9e3c-ea442ec5bb92",
   "metadata": {},
   "outputs": [],
   "source": [
    "import pandas as pd\n",
    "import numpy as np"
   ]
  },
  {
   "cell_type": "markdown",
   "id": "56fe3f85-d66b-4c1f-97d5-768e8bd4be3b",
   "metadata": {},
   "source": [
    "## Exploratory Analysis"
   ]
  },
  {
   "cell_type": "code",
   "execution_count": 2,
   "id": "e3acfa62-73ea-46cb-9a41-a9a6465e374b",
   "metadata": {},
   "outputs": [
    {
     "data": {
      "text/html": [
       "<div>\n",
       "<style scoped>\n",
       "    .dataframe tbody tr th:only-of-type {\n",
       "        vertical-align: middle;\n",
       "    }\n",
       "\n",
       "    .dataframe tbody tr th {\n",
       "        vertical-align: top;\n",
       "    }\n",
       "\n",
       "    .dataframe thead th {\n",
       "        text-align: right;\n",
       "    }\n",
       "</style>\n",
       "<table border=\"1\" class=\"dataframe\">\n",
       "  <thead>\n",
       "    <tr style=\"text-align: right;\">\n",
       "      <th></th>\n",
       "      <th>company</th>\n",
       "      <th>location</th>\n",
       "      <th>industry</th>\n",
       "      <th>total_laid_off</th>\n",
       "      <th>percentage_laid_off</th>\n",
       "      <th>date</th>\n",
       "      <th>stage</th>\n",
       "      <th>country</th>\n",
       "      <th>funds_raised</th>\n",
       "    </tr>\n",
       "  </thead>\n",
       "  <tbody>\n",
       "    <tr>\n",
       "      <th>0</th>\n",
       "      <td>BloomTech</td>\n",
       "      <td>SF Bay Area</td>\n",
       "      <td>Education</td>\n",
       "      <td>88.0</td>\n",
       "      <td>0.50</td>\n",
       "      <td>2022-12-01</td>\n",
       "      <td>Unknown</td>\n",
       "      <td>United States</td>\n",
       "      <td>NaN</td>\n",
       "    </tr>\n",
       "    <tr>\n",
       "      <th>1</th>\n",
       "      <td>Podium</td>\n",
       "      <td>Lehi</td>\n",
       "      <td>Support</td>\n",
       "      <td>NaN</td>\n",
       "      <td>0.12</td>\n",
       "      <td>2022-12-01</td>\n",
       "      <td>Series D</td>\n",
       "      <td>United States</td>\n",
       "      <td>419.0</td>\n",
       "    </tr>\n",
       "    <tr>\n",
       "      <th>2</th>\n",
       "      <td>DoorDash</td>\n",
       "      <td>SF Bay Area</td>\n",
       "      <td>Food</td>\n",
       "      <td>1250.0</td>\n",
       "      <td>0.06</td>\n",
       "      <td>2022-11-30</td>\n",
       "      <td>IPO</td>\n",
       "      <td>United States</td>\n",
       "      <td>2500.0</td>\n",
       "    </tr>\n",
       "    <tr>\n",
       "      <th>3</th>\n",
       "      <td>Kraken</td>\n",
       "      <td>SF Bay Area</td>\n",
       "      <td>Crypto</td>\n",
       "      <td>1100.0</td>\n",
       "      <td>0.30</td>\n",
       "      <td>2022-11-30</td>\n",
       "      <td>Unknown</td>\n",
       "      <td>United States</td>\n",
       "      <td>134.0</td>\n",
       "    </tr>\n",
       "    <tr>\n",
       "      <th>4</th>\n",
       "      <td>Happy Money</td>\n",
       "      <td>Los Angeles</td>\n",
       "      <td>Finance</td>\n",
       "      <td>158.0</td>\n",
       "      <td>0.34</td>\n",
       "      <td>2022-11-30</td>\n",
       "      <td>Series D</td>\n",
       "      <td>United States</td>\n",
       "      <td>191.0</td>\n",
       "    </tr>\n",
       "  </tbody>\n",
       "</table>\n",
       "</div>"
      ],
      "text/plain": [
       "       company     location   industry  total_laid_off  percentage_laid_off  \\\n",
       "0    BloomTech  SF Bay Area  Education            88.0                 0.50   \n",
       "1       Podium         Lehi    Support             NaN                 0.12   \n",
       "2     DoorDash  SF Bay Area       Food          1250.0                 0.06   \n",
       "3       Kraken  SF Bay Area     Crypto          1100.0                 0.30   \n",
       "4  Happy Money  Los Angeles    Finance           158.0                 0.34   \n",
       "\n",
       "         date     stage        country  funds_raised  \n",
       "0  2022-12-01   Unknown  United States           NaN  \n",
       "1  2022-12-01  Series D  United States         419.0  \n",
       "2  2022-11-30       IPO  United States        2500.0  \n",
       "3  2022-11-30   Unknown  United States         134.0  \n",
       "4  2022-11-30  Series D  United States         191.0  "
      ]
     },
     "execution_count": 2,
     "metadata": {},
     "output_type": "execute_result"
    }
   ],
   "source": [
    "df = pd.read_csv('layoffs.csv')\n",
    "df.head()"
   ]
  },
  {
   "cell_type": "code",
   "execution_count": 3,
   "id": "40cbab28-722a-4393-8ef6-c38605601aeb",
   "metadata": {},
   "outputs": [
    {
     "data": {
      "text/plain": [
       "(1714, 9)"
      ]
     },
     "execution_count": 3,
     "metadata": {},
     "output_type": "execute_result"
    }
   ],
   "source": [
    "df.shape"
   ]
  },
  {
   "cell_type": "code",
   "execution_count": 4,
   "id": "f68ba343-e5ff-4342-a620-f8c61111e8d3",
   "metadata": {},
   "outputs": [
    {
     "name": "stdout",
     "output_type": "stream",
     "text": [
      "<class 'pandas.core.frame.DataFrame'>\n",
      "RangeIndex: 1714 entries, 0 to 1713\n",
      "Data columns (total 9 columns):\n",
      " #   Column               Non-Null Count  Dtype  \n",
      "---  ------               --------------  -----  \n",
      " 0   company              1714 non-null   object \n",
      " 1   location             1714 non-null   object \n",
      " 2   industry             1711 non-null   object \n",
      " 3   total_laid_off       1209 non-null   float64\n",
      " 4   percentage_laid_off  1152 non-null   float64\n",
      " 5   date                 1714 non-null   object \n",
      " 6   stage                1710 non-null   object \n",
      " 7   country              1714 non-null   object \n",
      " 8   funds_raised         1591 non-null   float64\n",
      "dtypes: float64(3), object(6)\n",
      "memory usage: 120.6+ KB\n"
     ]
    }
   ],
   "source": [
    "df.info()"
   ]
  },
  {
   "cell_type": "code",
   "execution_count": 5,
   "id": "6beb5bc8-bd51-4889-985b-a6da1a238486",
   "metadata": {},
   "outputs": [
    {
     "data": {
      "text/plain": [
       "company                1437\n",
       "location                161\n",
       "industry                 27\n",
       "total_laid_off          231\n",
       "percentage_laid_off      69\n",
       "date                    402\n",
       "stage                    15\n",
       "country                  55\n",
       "funds_raised            553\n",
       "dtype: int64"
      ]
     },
     "execution_count": 5,
     "metadata": {},
     "output_type": "execute_result"
    }
   ],
   "source": [
    "df.nunique()"
   ]
  },
  {
   "cell_type": "code",
   "execution_count": 6,
   "id": "e16438f7-e46b-466c-8ac0-92b48dde8a79",
   "metadata": {},
   "outputs": [
    {
     "data": {
      "text/plain": [
       "company                  0\n",
       "location                 0\n",
       "industry                 3\n",
       "total_laid_off         505\n",
       "percentage_laid_off    562\n",
       "date                     0\n",
       "stage                    4\n",
       "country                  0\n",
       "funds_raised           123\n",
       "dtype: int64"
      ]
     },
     "execution_count": 6,
     "metadata": {},
     "output_type": "execute_result"
    }
   ],
   "source": [
    "df.isna().sum()"
   ]
  },
  {
   "cell_type": "markdown",
   "id": "5f496072-824f-4ac8-80d0-86e742d3d94e",
   "metadata": {
    "tags": []
   },
   "source": [
    "## Total Count"
   ]
  },
  {
   "cell_type": "code",
   "execution_count": 7,
   "id": "9e149361-63e6-4503-bfdf-1017b757b4d7",
   "metadata": {},
   "outputs": [
    {
     "name": "stderr",
     "output_type": "stream",
     "text": [
      "<frozen importlib._bootstrap>:228: RuntimeWarning: scipy._lib.messagestream.MessageStream size changed, may indicate binary incompatibility. Expected 56 from C header, got 64 from PyObject\n"
     ]
    }
   ],
   "source": [
    "import matplotlib.pyplot as plt\n",
    "import seaborn as sns\n",
    "sns.set_theme(style = \"darkgrid\")\n",
    "\n",
    "params = {\n",
    "    'figure.figsize': (8,5),\n",
    "    'axes.titlesize': 20,\n",
    "    'axes.labelsize': 16,\n",
    "    'xtick.labelsize': 12,\n",
    "    'ytick.labelsize': 12,\n",
    "}\n",
    "plt.rcParams.update(params)"
   ]
  },
  {
   "cell_type": "code",
   "execution_count": 8,
   "id": "d906c80a-5029-48c6-ad83-1e61227e567a",
   "metadata": {},
   "outputs": [
    {
     "data": {
      "image/png": "[encoded data removed]",
      "text/plain": [
       "<Figure size 432x288 with 1 Axes>"
      ]
     },
     "metadata": {
      "needs_background": "light"
     },
     "output_type": "display_data"
    },
    {
     "data": {
      "image/png": "[encoded data removed]",
      "text/plain": [
       "<Figure size 432x288 with 1 Axes>"
      ]
     },
     "metadata": {
      "needs_background": "light"
     },
     "output_type": "display_data"
    }
   ],
   "source": [
    "ct1 = df[df.total_laid_off <= 1000]['total_laid_off']\n",
    "ct2 = df[df.total_laid_off > 1000]['total_laid_off']\n",
    "\n",
    "sns.histplot(ct1, bins=50)\n",
    "plt.title('Layoff Head Count Frequency (<=1000)')\n",
    "plt.xlabel('Head Count')\n",
    "plt.ylabel('Frequency')\n",
    "plt.show()\n",
    "\n",
    "sns.histplot(ct2, bins=50)\n",
    "plt.title('Layoff Head Count Frequency (>1000)')\n",
    "plt.xlabel('Head Count')\n",
    "plt.ylabel('Frequency')\n",
    "plt.show()"
   ]
  },
  {
   "cell_type": "markdown",
   "id": "69cc1ba6-2635-42ba-867a-95f1da15d614",
   "metadata": {},
   "source": [
    "## Company"
   ]
  },
  {
   "cell_type": "code",
   "execution_count": 9,
   "id": "d40f746f-10f4-4133-be15-7f7831a57c52",
   "metadata": {},
   "outputs": [
    {
     "data": {
      "text/plain": [
       "0.98"
      ]
     },
     "execution_count": 9,
     "metadata": {},
     "output_type": "execute_result"
    }
   ],
   "source": [
    "def cum_perc(arr_perc):\n",
    "    r = 0\n",
    "    for p in arr_perc[:]:\n",
    "        r = r + (1 - r) * p\n",
    "    return r\n",
    "\n",
    "cum_perc([0.9, 0.8])\n",
    "# expecting 0.9 + 0.1 * 0.8 = 0.98"
   ]
  },
  {
   "cell_type": "code",
   "execution_count": 10,
   "id": "f71ef5c5-3853-4d1b-96d2-993e38b1f690",
   "metadata": {},
   "outputs": [
    {
     "data": {
      "text/html": [
       "<div>\n",
       "<style scoped>\n",
       "    .dataframe tbody tr th:only-of-type {\n",
       "        vertical-align: middle;\n",
       "    }\n",
       "\n",
       "    .dataframe tbody tr th {\n",
       "        vertical-align: top;\n",
       "    }\n",
       "\n",
       "    .dataframe thead th {\n",
       "        text-align: right;\n",
       "    }\n",
       "</style>\n",
       "<table border=\"1\" class=\"dataframe\">\n",
       "  <thead>\n",
       "    <tr style=\"text-align: right;\">\n",
       "      <th></th>\n",
       "      <th>company</th>\n",
       "      <th>industry</th>\n",
       "      <th>total_laid_off</th>\n",
       "      <th>percentage_laid_off</th>\n",
       "    </tr>\n",
       "  </thead>\n",
       "  <tbody>\n",
       "    <tr>\n",
       "      <th>0</th>\n",
       "      <td>Meta</td>\n",
       "      <td>Consumer</td>\n",
       "      <td>11000.0</td>\n",
       "      <td>0.130000</td>\n",
       "    </tr>\n",
       "    <tr>\n",
       "      <th>1</th>\n",
       "      <td>Amazon</td>\n",
       "      <td>Retail</td>\n",
       "      <td>10000.0</td>\n",
       "      <td>0.030000</td>\n",
       "    </tr>\n",
       "    <tr>\n",
       "      <th>2</th>\n",
       "      <td>Uber</td>\n",
       "      <td>Transportation</td>\n",
       "      <td>7585.0</td>\n",
       "      <td>0.567914</td>\n",
       "    </tr>\n",
       "    <tr>\n",
       "      <th>3</th>\n",
       "      <td>Booking.com</td>\n",
       "      <td>Travel</td>\n",
       "      <td>4601.0</td>\n",
       "      <td>0.250000</td>\n",
       "    </tr>\n",
       "    <tr>\n",
       "      <th>4</th>\n",
       "      <td>Cisco</td>\n",
       "      <td>Infrastructure</td>\n",
       "      <td>4100.0</td>\n",
       "      <td>0.050000</td>\n",
       "    </tr>\n",
       "    <tr>\n",
       "      <th>5</th>\n",
       "      <td>Peloton</td>\n",
       "      <td>Fitness</td>\n",
       "      <td>4084.0</td>\n",
       "      <td>0.387520</td>\n",
       "    </tr>\n",
       "    <tr>\n",
       "      <th>6</th>\n",
       "      <td>Carvana</td>\n",
       "      <td>Transportation</td>\n",
       "      <td>4000.0</td>\n",
       "      <td>0.190400</td>\n",
       "    </tr>\n",
       "    <tr>\n",
       "      <th>7</th>\n",
       "      <td>Better.com</td>\n",
       "      <td>Real Estate</td>\n",
       "      <td>3900.0</td>\n",
       "      <td>0.390300</td>\n",
       "    </tr>\n",
       "    <tr>\n",
       "      <th>8</th>\n",
       "      <td>Bytedance</td>\n",
       "      <td>Consumer</td>\n",
       "      <td>3750.0</td>\n",
       "      <td>0.000000</td>\n",
       "    </tr>\n",
       "    <tr>\n",
       "      <th>9</th>\n",
       "      <td>Twitter</td>\n",
       "      <td>Consumer</td>\n",
       "      <td>3700.0</td>\n",
       "      <td>0.500000</td>\n",
       "    </tr>\n",
       "  </tbody>\n",
       "</table>\n",
       "</div>"
      ],
      "text/plain": [
       "       company        industry  total_laid_off  percentage_laid_off\n",
       "0         Meta        Consumer         11000.0             0.130000\n",
       "1       Amazon          Retail         10000.0             0.030000\n",
       "2         Uber  Transportation          7585.0             0.567914\n",
       "3  Booking.com          Travel          4601.0             0.250000\n",
       "4        Cisco  Infrastructure          4100.0             0.050000\n",
       "5      Peloton         Fitness          4084.0             0.387520\n",
       "6      Carvana  Transportation          4000.0             0.190400\n",
       "7   Better.com     Real Estate          3900.0             0.390300\n",
       "8    Bytedance        Consumer          3750.0             0.000000\n",
       "9      Twitter        Consumer          3700.0             0.500000"
      ]
     },
     "execution_count": 10,
     "metadata": {},
     "output_type": "execute_result"
    }
   ],
   "source": [
    "df_com = df.fillna(0).groupby(['company', 'industry']).agg({'total_laid_off': 'sum', 'percentage_laid_off': cum_perc})\n",
    "df_com = df_com.sort_values(by='total_laid_off', ascending=False).reset_index(drop=False)\n",
    "df_com.head(10)"
   ]
  },
  {
   "cell_type": "code",
   "execution_count": 11,
   "id": "bb3c4b82-2813-4aab-b7ee-de0162047eec",
   "metadata": {},
   "outputs": [
    {
     "data": {
      "image/png": "[encoded data removed]",
      "text/plain": [
       "<Figure size 864x360 with 1 Axes>"
      ]
     },
     "metadata": {
      "needs_background": "light"
     },
     "output_type": "display_data"
    }
   ],
   "source": [
    "plt.figure(figsize=(12, 5))\n",
    "sns.barplot(df_com.head(10), x='company', y='total_laid_off')\n",
    "plt.title('Companies with Top Layoff Head Counts')\n",
    "plt.xlabel('Company')\n",
    "plt.ylabel('Total Head Count')\n",
    "plt.show()"
   ]
  },
  {
   "cell_type": "markdown",
   "id": "22856a89-858d-417e-9189-171fa5787c79",
   "metadata": {
    "tags": []
   },
   "source": [
    "#### Total vs. Percentage"
   ]
  },
  {
   "cell_type": "code",
   "execution_count": 12,
   "id": "4e99adab-555a-4fcf-afd0-977f6a11815d",
   "metadata": {},
   "outputs": [
    {
     "data": {
      "image/png": "[encoded data removed]",
      "text/plain": [
       "<Figure size 720x720 with 1 Axes>"
      ]
     },
     "metadata": {
      "needs_background": "light"
     },
     "output_type": "display_data"
    }
   ],
   "source": [
    "plt.figure(figsize=(10, 10))\n",
    "sns.scatterplot(data=df_com, x='total_laid_off', y='percentage_laid_off', hue='industry',  palette='tab20') \n",
    "plt.title('Total Head Count vs. Percentage by Industry')\n",
    "plt.xlabel('Total Head Count')\n",
    "plt.ylabel('Percentage')\n",
    "plt.show()"
   ]
  },
  {
   "cell_type": "markdown",
   "id": "c4573ffe-384d-4baa-b985-63450e92b4b3",
   "metadata": {},
   "source": [
    "## Industry"
   ]
  },
  {
   "cell_type": "code",
   "execution_count": 13,
   "id": "1ace9cae-990c-4165-8b08-efae484a2779",
   "metadata": {},
   "outputs": [
    {
     "data": {
      "text/html": [
       "<div>\n",
       "<style scoped>\n",
       "    .dataframe tbody tr th:only-of-type {\n",
       "        vertical-align: middle;\n",
       "    }\n",
       "\n",
       "    .dataframe tbody tr th {\n",
       "        vertical-align: top;\n",
       "    }\n",
       "\n",
       "    .dataframe thead th {\n",
       "        text-align: right;\n",
       "    }\n",
       "</style>\n",
       "<table border=\"1\" class=\"dataframe\">\n",
       "  <thead>\n",
       "    <tr style=\"text-align: right;\">\n",
       "      <th></th>\n",
       "      <th>industry</th>\n",
       "      <th>total_laid_off</th>\n",
       "    </tr>\n",
       "  </thead>\n",
       "  <tbody>\n",
       "    <tr>\n",
       "      <th>0</th>\n",
       "      <td>Transportation</td>\n",
       "      <td>28645.0</td>\n",
       "    </tr>\n",
       "    <tr>\n",
       "      <th>1</th>\n",
       "      <td>Consumer</td>\n",
       "      <td>28494.0</td>\n",
       "    </tr>\n",
       "    <tr>\n",
       "      <th>2</th>\n",
       "      <td>Retail</td>\n",
       "      <td>27421.0</td>\n",
       "    </tr>\n",
       "    <tr>\n",
       "      <th>3</th>\n",
       "      <td>Finance</td>\n",
       "      <td>19811.0</td>\n",
       "    </tr>\n",
       "    <tr>\n",
       "      <th>4</th>\n",
       "      <td>Food</td>\n",
       "      <td>19406.0</td>\n",
       "    </tr>\n",
       "    <tr>\n",
       "      <th>5</th>\n",
       "      <td>Real Estate</td>\n",
       "      <td>16022.0</td>\n",
       "    </tr>\n",
       "    <tr>\n",
       "      <th>6</th>\n",
       "      <td>Travel</td>\n",
       "      <td>14876.0</td>\n",
       "    </tr>\n",
       "    <tr>\n",
       "      <th>7</th>\n",
       "      <td>Healthcare</td>\n",
       "      <td>11900.0</td>\n",
       "    </tr>\n",
       "    <tr>\n",
       "      <th>8</th>\n",
       "      <td>Education</td>\n",
       "      <td>10358.0</td>\n",
       "    </tr>\n",
       "    <tr>\n",
       "      <th>9</th>\n",
       "      <td>Fitness</td>\n",
       "      <td>8538.0</td>\n",
       "    </tr>\n",
       "  </tbody>\n",
       "</table>\n",
       "</div>"
      ],
      "text/plain": [
       "         industry  total_laid_off\n",
       "0  Transportation         28645.0\n",
       "1        Consumer         28494.0\n",
       "2          Retail         27421.0\n",
       "3         Finance         19811.0\n",
       "4            Food         19406.0\n",
       "5     Real Estate         16022.0\n",
       "6          Travel         14876.0\n",
       "7      Healthcare         11900.0\n",
       "8       Education         10358.0\n",
       "9         Fitness          8538.0"
      ]
     },
     "execution_count": 13,
     "metadata": {},
     "output_type": "execute_result"
    }
   ],
   "source": [
    "df_ind = df.fillna(0).groupby(['industry']).agg({'total_laid_off': 'sum'})\n",
    "df_ind = df_ind.sort_values(by='total_laid_off', ascending=False).reset_index()\n",
    "df_ind.head(10)"
   ]
  },
  {
   "cell_type": "code",
   "execution_count": 14,
   "id": "6fbf7474-c91c-4e30-8145-af4525337861",
   "metadata": {},
   "outputs": [
    {
     "data": {
      "image/png": "[encoded data removed]",
      "text/plain": [
       "<Figure size 864x360 with 1 Axes>"
      ]
     },
     "metadata": {
      "needs_background": "light"
     },
     "output_type": "display_data"
    }
   ],
   "source": [
    "plt.figure(figsize=(12, 5))\n",
    "sns.barplot(df_ind.head(10), x='industry', y='total_laid_off')\n",
    "plt.title('Industries with Top Layoff Head Counts')\n",
    "plt.xlabel('Industry')\n",
    "plt.ylabel('Total Head Count')\n",
    "plt.show()"
   ]
  },
  {
   "cell_type": "code",
   "execution_count": 15,
   "id": "98c08555-5fef-4546-8090-7eb6d617c09c",
   "metadata": {},
   "outputs": [
    {
     "data": {
      "text/plain": [
       "array(['Carwow', 'SWVL', 'Carvana', 'Nuro', 'Kavak', 'Dance',\n",
       "       'GoTo Group', 'Beat', 'Lyft', 'Argo AI', 'Volta', 'Arrival',\n",
       "       'Zoomo', 'Spin', 'Carsome', '99', 'Ouster', 'Ola', 'Quicko',\n",
       "       'Uber', 'Otonomo', 'Tier Mobility', 'Shift', 'Vroom', 'CarDekho',\n",
       "       'Perceptive Automata', 'Rivian', 'Rad Power Bikes', 'Canoo',\n",
       "       'Clutch', 'Oye Rickshaw', 'Baton', 'Superpedestrian', 'Voi',\n",
       "       'Starship', 'Cazoo', 'Bird', 'Tesla', 'Getta', 'Cars24', 'Reef',\n",
       "       'Virgin Hyperloop', 'Bounce', 'Scoop', 'HumanForest', 'Waze',\n",
       "       'HopSkipDrive', 'The Appraisal Lane', 'Byton', 'Gojek', 'Grab',\n",
       "       'Outdoorsy', 'SpotHero', 'Circ', 'TrueCar', 'Kapten / Free Now',\n",
       "       'Cruise', 'Ridecell', 'Jump', 'Careem', 'Automatic', 'Lime',\n",
       "       'Divergent 3D', 'Ike', 'Zum', 'CarGurus', 'Kodiak Robotics',\n",
       "       'Zoox', 'BusBud', 'Velodyne Lidar', 'Shuttl', 'Moovel', 'Turo',\n",
       "       'Starship Technologies', 'Getaround', 'Zipcar', 'Passport'],\n",
       "      dtype=object)"
      ]
     },
     "execution_count": 15,
     "metadata": {},
     "output_type": "execute_result"
    }
   ],
   "source": [
    "df[df.industry == 'Transportation'].company.unique()"
   ]
  },
  {
   "cell_type": "code",
   "execution_count": 16,
   "id": "f0c85893-66c0-4db3-a72f-e5c365e0154e",
   "metadata": {},
   "outputs": [
    {
     "data": {
      "text/plain": [
       "array(['Pinterest', 'Wildlife Studios', 'Viber', 'Tencent', 'Juul',\n",
       "       'Meta', 'Cameo', 'Kabam', 'Twitter', 'Playdots', 'Sea', 'Snap',\n",
       "       'Koo', 'Skillz', 'Linktree', 'Warby Parker', 'iRobot', 'Jam City',\n",
       "       'StubHub', 'SoundCloud', 'TextNow', 'TikTok', 'Vimeo', 'StyleSeat',\n",
       "       '100 Thieves', 'Lightricks', 'Chessable', 'Airtasker', 'Niantic',\n",
       "       'Bytedance', 'Airtame', 'Memmo', 'Superhuman', 'Clubhouse',\n",
       "       'Gather', 'IRL', 'Kaodim', 'Eaze', 'Playtika',\n",
       "       'Mobile Premier League', 'Dazn', 'Airtime', 'Picsart',\n",
       "       'Xiaohongshu', 'Glossier', 'Genius', 'DJI', 'Mozilla', 'Yelp',\n",
       "       'Havenly', 'Sonos', 'MakerBot', 'BookMyShow', 'Sandbox VR',\n",
       "       'Care.com', 'Jiobit', 'Magic Leap', 'Houzz', 'GoPro',\n",
       "       'SweetEscape', 'VSCO', 'Eventbrite', 'GetNinjas', 'Iflix',\n",
       "       'Booksy', 'Rover', 'Thumbtack', 'Polarr', 'HOOQ', 'Clutter',\n",
       "       'Takl', 'Panda Squad'], dtype=object)"
      ]
     },
     "execution_count": 16,
     "metadata": {},
     "output_type": "execute_result"
    }
   ],
   "source": [
    "df[df.industry == 'Consumer'].company.unique()"
   ]
  },
  {
   "cell_type": "markdown",
   "id": "9308843f-1422-4900-adc0-a93f8ec327f2",
   "metadata": {},
   "source": [
    "## Countries"
   ]
  },
  {
   "cell_type": "code",
   "execution_count": 17,
   "id": "3d0d1607-3208-481f-81ba-5f79f029d607",
   "metadata": {},
   "outputs": [
    {
     "data": {
      "text/html": [
       "<div>\n",
       "<style scoped>\n",
       "    .dataframe tbody tr th:only-of-type {\n",
       "        vertical-align: middle;\n",
       "    }\n",
       "\n",
       "    .dataframe tbody tr th {\n",
       "        vertical-align: top;\n",
       "    }\n",
       "\n",
       "    .dataframe thead th {\n",
       "        text-align: right;\n",
       "    }\n",
       "</style>\n",
       "<table border=\"1\" class=\"dataframe\">\n",
       "  <thead>\n",
       "    <tr style=\"text-align: right;\">\n",
       "      <th></th>\n",
       "      <th>country</th>\n",
       "      <th>total_laid_off</th>\n",
       "    </tr>\n",
       "  </thead>\n",
       "  <tbody>\n",
       "    <tr>\n",
       "      <th>0</th>\n",
       "      <td>United States</td>\n",
       "      <td>158128.0</td>\n",
       "    </tr>\n",
       "    <tr>\n",
       "      <th>1</th>\n",
       "      <td>India</td>\n",
       "      <td>29726.0</td>\n",
       "    </tr>\n",
       "    <tr>\n",
       "      <th>2</th>\n",
       "      <td>Brazil</td>\n",
       "      <td>7525.0</td>\n",
       "    </tr>\n",
       "    <tr>\n",
       "      <th>3</th>\n",
       "      <td>Singapore</td>\n",
       "      <td>5493.0</td>\n",
       "    </tr>\n",
       "    <tr>\n",
       "      <th>4</th>\n",
       "      <td>Canada</td>\n",
       "      <td>5199.0</td>\n",
       "    </tr>\n",
       "    <tr>\n",
       "      <th>5</th>\n",
       "      <td>Netherlands</td>\n",
       "      <td>5070.0</td>\n",
       "    </tr>\n",
       "    <tr>\n",
       "      <th>6</th>\n",
       "      <td>United Kingdom</td>\n",
       "      <td>4739.0</td>\n",
       "    </tr>\n",
       "    <tr>\n",
       "      <th>7</th>\n",
       "      <td>China</td>\n",
       "      <td>4430.0</td>\n",
       "    </tr>\n",
       "    <tr>\n",
       "      <th>8</th>\n",
       "      <td>Germany</td>\n",
       "      <td>4113.0</td>\n",
       "    </tr>\n",
       "    <tr>\n",
       "      <th>9</th>\n",
       "      <td>Indonesia</td>\n",
       "      <td>2961.0</td>\n",
       "    </tr>\n",
       "  </tbody>\n",
       "</table>\n",
       "</div>"
      ],
      "text/plain": [
       "          country  total_laid_off\n",
       "0   United States        158128.0\n",
       "1           India         29726.0\n",
       "2          Brazil          7525.0\n",
       "3       Singapore          5493.0\n",
       "4          Canada          5199.0\n",
       "5     Netherlands          5070.0\n",
       "6  United Kingdom          4739.0\n",
       "7           China          4430.0\n",
       "8         Germany          4113.0\n",
       "9       Indonesia          2961.0"
      ]
     },
     "execution_count": 17,
     "metadata": {},
     "output_type": "execute_result"
    }
   ],
   "source": [
    "df_ctr = df.fillna(0).groupby(['country']).agg({'total_laid_off': 'sum'})\n",
    "df_ctr = df_ctr.sort_values(by='total_laid_off', ascending=False).reset_index()\n",
    "df_ctr.head(10)"
   ]
  },
  {
   "cell_type": "code",
   "execution_count": 18,
   "id": "f41992a0-6362-409b-9d6f-1f5420075e32",
   "metadata": {},
   "outputs": [
    {
     "data": {
      "image/png": "[encoded data removed]",
      "text/plain": [
       "<Figure size 864x360 with 1 Axes>"
      ]
     },
     "metadata": {
      "needs_background": "light"
     },
     "output_type": "display_data"
    }
   ],
   "source": [
    "plt.figure(figsize=(12, 5))\n",
    "sns.barplot(df_ctr.head(10), y='country', x='total_laid_off')\n",
    "plt.title('Countries with Top Layoff Head Counts')\n",
    "plt.xlabel('Total Head Count')\n",
    "plt.ylabel('Country')\n",
    "plt.show()"
   ]
  },
  {
   "cell_type": "markdown",
   "id": "c5dcacc6-5421-42cd-9daf-0e294fa270a2",
   "metadata": {},
   "source": [
    "#### Country + Location"
   ]
  },
  {
   "cell_type": "code",
   "execution_count": 19,
   "id": "e5cce529-ae85-4ddb-a252-b01458925a78",
   "metadata": {},
   "outputs": [
    {
     "data": {
      "text/html": [
       "<div>\n",
       "<style scoped>\n",
       "    .dataframe tbody tr th:only-of-type {\n",
       "        vertical-align: middle;\n",
       "    }\n",
       "\n",
       "    .dataframe tbody tr th {\n",
       "        vertical-align: top;\n",
       "    }\n",
       "\n",
       "    .dataframe thead th {\n",
       "        text-align: right;\n",
       "    }\n",
       "</style>\n",
       "<table border=\"1\" class=\"dataframe\">\n",
       "  <thead>\n",
       "    <tr style=\"text-align: right;\">\n",
       "      <th>location</th>\n",
       "      <th>country</th>\n",
       "      <th>Ahmedabad</th>\n",
       "      <th>Amsterdam</th>\n",
       "      <th>Ann Arbor</th>\n",
       "      <th>Athens</th>\n",
       "      <th>Atlanta</th>\n",
       "      <th>Auckland</th>\n",
       "      <th>Austin</th>\n",
       "      <th>Baltimore</th>\n",
       "      <th>Bangkok</th>\n",
       "      <th>...</th>\n",
       "      <th>Vancouver</th>\n",
       "      <th>Victoria</th>\n",
       "      <th>Vienna</th>\n",
       "      <th>Vilnius</th>\n",
       "      <th>Washington D.C.</th>\n",
       "      <th>Waterloo</th>\n",
       "      <th>Winnipeg</th>\n",
       "      <th>Yangon</th>\n",
       "      <th>Zug</th>\n",
       "      <th>Zurich</th>\n",
       "    </tr>\n",
       "  </thead>\n",
       "  <tbody>\n",
       "    <tr>\n",
       "      <th>0</th>\n",
       "      <td>United States</td>\n",
       "      <td>NaN</td>\n",
       "      <td>NaN</td>\n",
       "      <td>40.0</td>\n",
       "      <td>NaN</td>\n",
       "      <td>1461.0</td>\n",
       "      <td>NaN</td>\n",
       "      <td>1892.0</td>\n",
       "      <td>20.0</td>\n",
       "      <td>NaN</td>\n",
       "      <td>...</td>\n",
       "      <td>174.0</td>\n",
       "      <td>NaN</td>\n",
       "      <td>NaN</td>\n",
       "      <td>NaN</td>\n",
       "      <td>867.0</td>\n",
       "      <td>NaN</td>\n",
       "      <td>NaN</td>\n",
       "      <td>NaN</td>\n",
       "      <td>NaN</td>\n",
       "      <td>NaN</td>\n",
       "    </tr>\n",
       "    <tr>\n",
       "      <th>1</th>\n",
       "      <td>India</td>\n",
       "      <td>500.0</td>\n",
       "      <td>NaN</td>\n",
       "      <td>NaN</td>\n",
       "      <td>NaN</td>\n",
       "      <td>NaN</td>\n",
       "      <td>NaN</td>\n",
       "      <td>NaN</td>\n",
       "      <td>NaN</td>\n",
       "      <td>NaN</td>\n",
       "      <td>...</td>\n",
       "      <td>NaN</td>\n",
       "      <td>NaN</td>\n",
       "      <td>NaN</td>\n",
       "      <td>NaN</td>\n",
       "      <td>NaN</td>\n",
       "      <td>NaN</td>\n",
       "      <td>NaN</td>\n",
       "      <td>NaN</td>\n",
       "      <td>NaN</td>\n",
       "      <td>NaN</td>\n",
       "    </tr>\n",
       "    <tr>\n",
       "      <th>2</th>\n",
       "      <td>Brazil</td>\n",
       "      <td>NaN</td>\n",
       "      <td>NaN</td>\n",
       "      <td>NaN</td>\n",
       "      <td>NaN</td>\n",
       "      <td>NaN</td>\n",
       "      <td>NaN</td>\n",
       "      <td>NaN</td>\n",
       "      <td>NaN</td>\n",
       "      <td>NaN</td>\n",
       "      <td>...</td>\n",
       "      <td>NaN</td>\n",
       "      <td>NaN</td>\n",
       "      <td>NaN</td>\n",
       "      <td>NaN</td>\n",
       "      <td>NaN</td>\n",
       "      <td>NaN</td>\n",
       "      <td>NaN</td>\n",
       "      <td>NaN</td>\n",
       "      <td>NaN</td>\n",
       "      <td>NaN</td>\n",
       "    </tr>\n",
       "    <tr>\n",
       "      <th>3</th>\n",
       "      <td>Singapore</td>\n",
       "      <td>NaN</td>\n",
       "      <td>NaN</td>\n",
       "      <td>NaN</td>\n",
       "      <td>NaN</td>\n",
       "      <td>NaN</td>\n",
       "      <td>NaN</td>\n",
       "      <td>NaN</td>\n",
       "      <td>NaN</td>\n",
       "      <td>NaN</td>\n",
       "      <td>...</td>\n",
       "      <td>NaN</td>\n",
       "      <td>NaN</td>\n",
       "      <td>NaN</td>\n",
       "      <td>NaN</td>\n",
       "      <td>NaN</td>\n",
       "      <td>NaN</td>\n",
       "      <td>NaN</td>\n",
       "      <td>NaN</td>\n",
       "      <td>NaN</td>\n",
       "      <td>NaN</td>\n",
       "    </tr>\n",
       "    <tr>\n",
       "      <th>4</th>\n",
       "      <td>Canada</td>\n",
       "      <td>NaN</td>\n",
       "      <td>NaN</td>\n",
       "      <td>NaN</td>\n",
       "      <td>NaN</td>\n",
       "      <td>NaN</td>\n",
       "      <td>NaN</td>\n",
       "      <td>NaN</td>\n",
       "      <td>NaN</td>\n",
       "      <td>NaN</td>\n",
       "      <td>...</td>\n",
       "      <td>1027.0</td>\n",
       "      <td>NaN</td>\n",
       "      <td>NaN</td>\n",
       "      <td>NaN</td>\n",
       "      <td>NaN</td>\n",
       "      <td>112.0</td>\n",
       "      <td>350.0</td>\n",
       "      <td>NaN</td>\n",
       "      <td>NaN</td>\n",
       "      <td>NaN</td>\n",
       "    </tr>\n",
       "  </tbody>\n",
       "</table>\n",
       "<p>5 rows × 162 columns</p>\n",
       "</div>"
      ],
      "text/plain": [
       "location        country  Ahmedabad  Amsterdam  Ann Arbor  Athens  Atlanta  \\\n",
       "0         United States        NaN        NaN       40.0     NaN   1461.0   \n",
       "1                 India      500.0        NaN        NaN     NaN      NaN   \n",
       "2                Brazil        NaN        NaN        NaN     NaN      NaN   \n",
       "3             Singapore        NaN        NaN        NaN     NaN      NaN   \n",
       "4                Canada        NaN        NaN        NaN     NaN      NaN   \n",
       "\n",
       "location  Auckland  Austin  Baltimore  Bangkok  ...  Vancouver  Victoria  \\\n",
       "0              NaN  1892.0       20.0      NaN  ...      174.0       NaN   \n",
       "1              NaN     NaN        NaN      NaN  ...        NaN       NaN   \n",
       "2              NaN     NaN        NaN      NaN  ...        NaN       NaN   \n",
       "3              NaN     NaN        NaN      NaN  ...        NaN       NaN   \n",
       "4              NaN     NaN        NaN      NaN  ...     1027.0       NaN   \n",
       "\n",
       "location  Vienna  Vilnius  Washington D.C.  Waterloo  Winnipeg  Yangon  Zug  \\\n",
       "0            NaN      NaN            867.0       NaN       NaN     NaN  NaN   \n",
       "1            NaN      NaN              NaN       NaN       NaN     NaN  NaN   \n",
       "2            NaN      NaN              NaN       NaN       NaN     NaN  NaN   \n",
       "3            NaN      NaN              NaN       NaN       NaN     NaN  NaN   \n",
       "4            NaN      NaN              NaN     112.0     350.0     NaN  NaN   \n",
       "\n",
       "location  Zurich  \n",
       "0            NaN  \n",
       "1            NaN  \n",
       "2            NaN  \n",
       "3            NaN  \n",
       "4            NaN  \n",
       "\n",
       "[5 rows x 162 columns]"
      ]
     },
     "execution_count": 19,
     "metadata": {},
     "output_type": "execute_result"
    }
   ],
   "source": [
    "df_ctr2 = df.fillna(0).groupby(['country', 'location']).agg({'total_laid_off': 'sum'})\n",
    "df_ctr2 = df_ctr2.reset_index()\n",
    "df_ctr2 = df_ctr2.pivot(index='country', columns='location', values='total_laid_off')\n",
    "df_ctr2 = df_ctr2.reindex(index = df_ctr.country).reset_index()\n",
    "df_ctr2.head()"
   ]
  },
  {
   "cell_type": "code",
   "execution_count": 20,
   "id": "3eaf3dec-dfc6-429c-bf37-b2b64b6335a2",
   "metadata": {},
   "outputs": [
    {
     "data": {
      "image/png": "[encoded data removed]",
      "text/plain": [
       "<Figure size 864x360 with 1 Axes>"
      ]
     },
     "metadata": {
      "needs_background": "light"
     },
     "output_type": "display_data"
    }
   ],
   "source": [
    "df_ctr2.head(10).plot.barh(stacked=True, figsize=(12, 5))\n",
    "plt.gca().invert_yaxis()\n",
    "plt.title('Top Countires & Locations')\n",
    "plt.xlabel('Total Head Count')\n",
    "plt.ylabel('Country')\n",
    "plt.yticks(plt.gca().get_yticks(), labels=df_ctr2.head(10).country)\n",
    "plt.legend('', frameon=False)\n",
    "plt.show()"
   ]
  },
  {
   "cell_type": "markdown",
   "id": "a43c5226-102a-495e-b874-cf0eccc25e77",
   "metadata": {},
   "source": [
    "#### Country + Industry"
   ]
  },
  {
   "cell_type": "code",
   "execution_count": 21,
   "id": "7966a7fe-04ce-419a-b546-fbfe38fc6b2a",
   "metadata": {},
   "outputs": [
    {
     "data": {
      "text/html": [
       "<div>\n",
       "<style scoped>\n",
       "    .dataframe tbody tr th:only-of-type {\n",
       "        vertical-align: middle;\n",
       "    }\n",
       "\n",
       "    .dataframe tbody tr th {\n",
       "        vertical-align: top;\n",
       "    }\n",
       "\n",
       "    .dataframe thead th {\n",
       "        text-align: right;\n",
       "    }\n",
       "</style>\n",
       "<table border=\"1\" class=\"dataframe\">\n",
       "  <thead>\n",
       "    <tr style=\"text-align: right;\">\n",
       "      <th>industry</th>\n",
       "      <th>country</th>\n",
       "      <th>0</th>\n",
       "      <th>Aerospace</th>\n",
       "      <th>Construction</th>\n",
       "      <th>Consumer</th>\n",
       "      <th>Crypto</th>\n",
       "      <th>Data</th>\n",
       "      <th>Education</th>\n",
       "      <th>Energy</th>\n",
       "      <th>Finance</th>\n",
       "      <th>...</th>\n",
       "      <th>Other</th>\n",
       "      <th>Product</th>\n",
       "      <th>Real Estate</th>\n",
       "      <th>Recruiting</th>\n",
       "      <th>Retail</th>\n",
       "      <th>Sales</th>\n",
       "      <th>Security</th>\n",
       "      <th>Support</th>\n",
       "      <th>Transportation</th>\n",
       "      <th>Travel</th>\n",
       "    </tr>\n",
       "  </thead>\n",
       "  <tbody>\n",
       "    <tr>\n",
       "      <th>0</th>\n",
       "      <td>United States</td>\n",
       "      <td>268.0</td>\n",
       "      <td>210.0</td>\n",
       "      <td>3330.0</td>\n",
       "      <td>23002.0</td>\n",
       "      <td>3356.0</td>\n",
       "      <td>2357.0</td>\n",
       "      <td>1448.0</td>\n",
       "      <td>667.0</td>\n",
       "      <td>9736.0</td>\n",
       "      <td>...</td>\n",
       "      <td>3169.0</td>\n",
       "      <td>536.0</td>\n",
       "      <td>14195.0</td>\n",
       "      <td>2550.0</td>\n",
       "      <td>20203.0</td>\n",
       "      <td>3513.0</td>\n",
       "      <td>3384.0</td>\n",
       "      <td>1067.0</td>\n",
       "      <td>18310.0</td>\n",
       "      <td>4958.0</td>\n",
       "    </tr>\n",
       "    <tr>\n",
       "      <th>1</th>\n",
       "      <td>India</td>\n",
       "      <td>NaN</td>\n",
       "      <td>NaN</td>\n",
       "      <td>140.0</td>\n",
       "      <td>2210.0</td>\n",
       "      <td>60.0</td>\n",
       "      <td>40.0</td>\n",
       "      <td>8034.0</td>\n",
       "      <td>NaN</td>\n",
       "      <td>3181.0</td>\n",
       "      <td>...</td>\n",
       "      <td>NaN</td>\n",
       "      <td>NaN</td>\n",
       "      <td>350.0</td>\n",
       "      <td>200.0</td>\n",
       "      <td>2874.0</td>\n",
       "      <td>NaN</td>\n",
       "      <td>NaN</td>\n",
       "      <td>NaN</td>\n",
       "      <td>4530.0</td>\n",
       "      <td>1900.0</td>\n",
       "    </tr>\n",
       "    <tr>\n",
       "      <th>2</th>\n",
       "      <td>Brazil</td>\n",
       "      <td>NaN</td>\n",
       "      <td>NaN</td>\n",
       "      <td>NaN</td>\n",
       "      <td>311.0</td>\n",
       "      <td>190.0</td>\n",
       "      <td>NaN</td>\n",
       "      <td>191.0</td>\n",
       "      <td>NaN</td>\n",
       "      <td>2424.0</td>\n",
       "      <td>...</td>\n",
       "      <td>83.0</td>\n",
       "      <td>NaN</td>\n",
       "      <td>885.0</td>\n",
       "      <td>18.0</td>\n",
       "      <td>615.0</td>\n",
       "      <td>51.0</td>\n",
       "      <td>NaN</td>\n",
       "      <td>33.0</td>\n",
       "      <td>285.0</td>\n",
       "      <td>667.0</td>\n",
       "    </tr>\n",
       "    <tr>\n",
       "      <th>3</th>\n",
       "      <td>Singapore</td>\n",
       "      <td>NaN</td>\n",
       "      <td>NaN</td>\n",
       "      <td>NaN</td>\n",
       "      <td>250.0</td>\n",
       "      <td>2900.0</td>\n",
       "      <td>NaN</td>\n",
       "      <td>NaN</td>\n",
       "      <td>NaN</td>\n",
       "      <td>118.0</td>\n",
       "      <td>...</td>\n",
       "      <td>NaN</td>\n",
       "      <td>NaN</td>\n",
       "      <td>NaN</td>\n",
       "      <td>NaN</td>\n",
       "      <td>324.0</td>\n",
       "      <td>NaN</td>\n",
       "      <td>NaN</td>\n",
       "      <td>NaN</td>\n",
       "      <td>360.0</td>\n",
       "      <td>1500.0</td>\n",
       "    </tr>\n",
       "    <tr>\n",
       "      <th>4</th>\n",
       "      <td>Canada</td>\n",
       "      <td>NaN</td>\n",
       "      <td>NaN</td>\n",
       "      <td>350.0</td>\n",
       "      <td>22.0</td>\n",
       "      <td>30.0</td>\n",
       "      <td>NaN</td>\n",
       "      <td>220.0</td>\n",
       "      <td>47.0</td>\n",
       "      <td>571.0</td>\n",
       "      <td>...</td>\n",
       "      <td>146.0</td>\n",
       "      <td>114.0</td>\n",
       "      <td>191.0</td>\n",
       "      <td>NaN</td>\n",
       "      <td>1570.0</td>\n",
       "      <td>95.0</td>\n",
       "      <td>24.0</td>\n",
       "      <td>140.0</td>\n",
       "      <td>99.0</td>\n",
       "      <td>22.0</td>\n",
       "    </tr>\n",
       "  </tbody>\n",
       "</table>\n",
       "<p>5 rows × 29 columns</p>\n",
       "</div>"
      ],
      "text/plain": [
       "industry        country      0  Aerospace  Construction  Consumer  Crypto  \\\n",
       "0         United States  268.0      210.0        3330.0   23002.0  3356.0   \n",
       "1                 India    NaN        NaN         140.0    2210.0    60.0   \n",
       "2                Brazil    NaN        NaN           NaN     311.0   190.0   \n",
       "3             Singapore    NaN        NaN           NaN     250.0  2900.0   \n",
       "4                Canada    NaN        NaN         350.0      22.0    30.0   \n",
       "\n",
       "industry    Data  Education  Energy  Finance  ...   Other  Product  \\\n",
       "0         2357.0     1448.0   667.0   9736.0  ...  3169.0    536.0   \n",
       "1           40.0     8034.0     NaN   3181.0  ...     NaN      NaN   \n",
       "2            NaN      191.0     NaN   2424.0  ...    83.0      NaN   \n",
       "3            NaN        NaN     NaN    118.0  ...     NaN      NaN   \n",
       "4            NaN      220.0    47.0    571.0  ...   146.0    114.0   \n",
       "\n",
       "industry  Real Estate  Recruiting   Retail   Sales  Security  Support  \\\n",
       "0             14195.0      2550.0  20203.0  3513.0    3384.0   1067.0   \n",
       "1               350.0       200.0   2874.0     NaN       NaN      NaN   \n",
       "2               885.0        18.0    615.0    51.0       NaN     33.0   \n",
       "3                 NaN         NaN    324.0     NaN       NaN      NaN   \n",
       "4               191.0         NaN   1570.0    95.0      24.0    140.0   \n",
       "\n",
       "industry  Transportation  Travel  \n",
       "0                18310.0  4958.0  \n",
       "1                 4530.0  1900.0  \n",
       "2                  285.0   667.0  \n",
       "3                  360.0  1500.0  \n",
       "4                   99.0    22.0  \n",
       "\n",
       "[5 rows x 29 columns]"
      ]
     },
     "execution_count": 21,
     "metadata": {},
     "output_type": "execute_result"
    }
   ],
   "source": [
    "df_ctr3 = df.fillna(0).groupby(['country', 'industry']).agg({'total_laid_off': 'sum'})\n",
    "df_ctr3 = df_ctr3.reset_index()\n",
    "df_ctr3 = df_ctr3.pivot(index='country', columns='industry', values='total_laid_off')\n",
    "df_ctr3 = df_ctr3.reindex(index = df_ctr.country).reset_index()\n",
    "df_ctr3.head()"
   ]
  },
  {
   "cell_type": "code",
   "execution_count": 22,
   "id": "ec590537-13fa-47c7-868b-9ad1f75120ec",
   "metadata": {},
   "outputs": [],
   "source": [
    "use_colors = [\n",
    "    '#FFA07A', '#F08080', '#FF0000', '#B22222',  # reds\n",
    "    '#FFC0CB', '#FF69B4', '#FF1493', '#C71585',  # pinks\n",
    "    '#FFA500', '#FF8C00', '#FFA07A', '#FF6347',  # oranges\n",
    "    '#FFFFE0', '#EEE8AA', '#FFD700', '#FFFF00',  # yellows\n",
    "    '#E6E6FA', '#D8BFD8', '#EE82EE', '#9370DB',  # purples\n",
    "    '#ADFF2F', '#32CD32', '#66CDAA', '#2E8B57',  # greens\n",
    "    '#00FFFF', '#4682B4', '#00BFFF', '#0000FF',  # blues\n",
    "]"
   ]
  },
  {
   "cell_type": "code",
   "execution_count": 23,
   "id": "20f9d61e-50ed-4a8f-9316-92d23e6261d0",
   "metadata": {},
   "outputs": [
    {
     "data": {
      "image/png": "[encoded data removed]",
      "text/plain": [
       "<Figure size 864x360 with 1 Axes>"
      ]
     },
     "metadata": {
      "needs_background": "light"
     },
     "output_type": "display_data"
    }
   ],
   "source": [
    "fig, ax = plt.subplots(1)\n",
    "df_ctr3.head(10).plot.barh(ax=ax, stacked=True, figsize=(12, 5), color=use_colors)\n",
    "plt.gca().invert_yaxis()\n",
    "plt.title('Top Countries & Industries')\n",
    "plt.xlabel('Total Head Count')\n",
    "plt.ylabel('Country')\n",
    "plt.yticks(plt.gca().get_yticks(), labels=df_ctr3.head(10).country)\n",
    "plt.legend(loc='lower right', ncol=4)\n",
    "plt.show()"
   ]
  },
  {
   "cell_type": "code",
   "execution_count": 24,
   "id": "843a080a-b8f6-42b8-8d6c-96176a6c5d66",
   "metadata": {},
   "outputs": [
    {
     "name": "stdout",
     "output_type": "stream",
     "text": [
      "[(0.2980392156862745, 0.4470588235294118, 0.6901960784313725), (0.8666666666666667, 0.5176470588235295, 0.3215686274509804), (0.3333333333333333, 0.6588235294117647, 0.40784313725490196), (0.7686274509803922, 0.3058823529411765, 0.3215686274509804), (0.5058823529411764, 0.4470588235294118, 0.7019607843137254), (0.5764705882352941, 0.47058823529411764, 0.3764705882352941), (0.8549019607843137, 0.5450980392156862, 0.7647058823529411), (0.5490196078431373, 0.5490196078431373, 0.5490196078431373), (0.8, 0.7254901960784313, 0.4549019607843137), (0.39215686274509803, 0.7098039215686275, 0.803921568627451)]\n"
     ]
    }
   ],
   "source": [
    "print(plt.rcParams['axes.prop_cycle'].by_key()['color'])"
   ]
  },
  {
   "cell_type": "markdown",
   "id": "d3ddca70-b91f-4266-b0b2-3e191b705cde",
   "metadata": {},
   "source": [
    "#### Mapping"
   ]
  },
  {
   "cell_type": "code",
   "execution_count": 25,
   "id": "eb87b6a4-4920-4d2b-940f-c011f9fa4684",
   "metadata": {},
   "outputs": [
    {
     "data": {
      "text/html": [
       "<div>\n",
       "<style scoped>\n",
       "    .dataframe tbody tr th:only-of-type {\n",
       "        vertical-align: middle;\n",
       "    }\n",
       "\n",
       "    .dataframe tbody tr th {\n",
       "        vertical-align: top;\n",
       "    }\n",
       "\n",
       "    .dataframe thead th {\n",
       "        text-align: right;\n",
       "    }\n",
       "</style>\n",
       "<table border=\"1\" class=\"dataframe\">\n",
       "  <thead>\n",
       "    <tr style=\"text-align: right;\">\n",
       "      <th></th>\n",
       "      <th>location</th>\n",
       "      <th>total_laid_off</th>\n",
       "    </tr>\n",
       "  </thead>\n",
       "  <tbody>\n",
       "    <tr>\n",
       "      <th>0</th>\n",
       "      <td>SF Bay Area</td>\n",
       "      <td>78678.0</td>\n",
       "    </tr>\n",
       "    <tr>\n",
       "      <th>1</th>\n",
       "      <td>New York City</td>\n",
       "      <td>21554.0</td>\n",
       "    </tr>\n",
       "    <tr>\n",
       "      <th>2</th>\n",
       "      <td>Bengaluru</td>\n",
       "      <td>16790.0</td>\n",
       "    </tr>\n",
       "    <tr>\n",
       "      <th>3</th>\n",
       "      <td>Seattle</td>\n",
       "      <td>16051.0</td>\n",
       "    </tr>\n",
       "    <tr>\n",
       "      <th>4</th>\n",
       "      <td>Boston</td>\n",
       "      <td>7246.0</td>\n",
       "    </tr>\n",
       "  </tbody>\n",
       "</table>\n",
       "</div>"
      ],
      "text/plain": [
       "        location  total_laid_off\n",
       "0    SF Bay Area         78678.0\n",
       "1  New York City         21554.0\n",
       "2      Bengaluru         16790.0\n",
       "3        Seattle         16051.0\n",
       "4         Boston          7246.0"
      ]
     },
     "execution_count": 25,
     "metadata": {},
     "output_type": "execute_result"
    }
   ],
   "source": [
    "df_loc = df.fillna(0).groupby(['location']).agg({'total_laid_off': 'sum'})\n",
    "df_loc = df_loc.sort_values(by='total_laid_off', ascending=False).reset_index()\n",
    "df_loc = df_loc[df_loc.total_laid_off != 0]\n",
    "df_loc.head()"
   ]
  },
  {
   "cell_type": "code",
   "execution_count": 26,
   "id": "77ba1afb-0094-4c7f-b8ea-e5cc2d1ae4af",
   "metadata": {},
   "outputs": [
    {
     "data": {
      "text/html": [
       "<div>\n",
       "<style scoped>\n",
       "    .dataframe tbody tr th:only-of-type {\n",
       "        vertical-align: middle;\n",
       "    }\n",
       "\n",
       "    .dataframe tbody tr th {\n",
       "        vertical-align: top;\n",
       "    }\n",
       "\n",
       "    .dataframe thead th {\n",
       "        text-align: right;\n",
       "    }\n",
       "</style>\n",
       "<table border=\"1\" class=\"dataframe\">\n",
       "  <thead>\n",
       "    <tr style=\"text-align: right;\">\n",
       "      <th></th>\n",
       "      <th>name</th>\n",
       "      <th>geometry</th>\n",
       "    </tr>\n",
       "  </thead>\n",
       "  <tbody>\n",
       "    <tr>\n",
       "      <th>0</th>\n",
       "      <td>Vatican City</td>\n",
       "      <td>POINT (12.45339 41.90328)</td>\n",
       "    </tr>\n",
       "    <tr>\n",
       "      <th>1</th>\n",
       "      <td>San Marino</td>\n",
       "      <td>POINT (12.44177 43.93610)</td>\n",
       "    </tr>\n",
       "    <tr>\n",
       "      <th>2</th>\n",
       "      <td>Vaduz</td>\n",
       "      <td>POINT (9.51667 47.13372)</td>\n",
       "    </tr>\n",
       "    <tr>\n",
       "      <th>3</th>\n",
       "      <td>Lobamba</td>\n",
       "      <td>POINT (31.20000 -26.46667)</td>\n",
       "    </tr>\n",
       "    <tr>\n",
       "      <th>4</th>\n",
       "      <td>Luxembourg</td>\n",
       "      <td>POINT (6.13000 49.61166)</td>\n",
       "    </tr>\n",
       "  </tbody>\n",
       "</table>\n",
       "</div>"
      ],
      "text/plain": [
       "           name                    geometry\n",
       "0  Vatican City   POINT (12.45339 41.90328)\n",
       "1    San Marino   POINT (12.44177 43.93610)\n",
       "2         Vaduz    POINT (9.51667 47.13372)\n",
       "3       Lobamba  POINT (31.20000 -26.46667)\n",
       "4    Luxembourg    POINT (6.13000 49.61166)"
      ]
     },
     "execution_count": 26,
     "metadata": {},
     "output_type": "execute_result"
    }
   ],
   "source": [
    "import geopandas as gpd\n",
    "cities = gpd.read_file(gpd.datasets.get_path('naturalearth_cities'))\n",
    "cities.head()"
   ]
  },
  {
   "cell_type": "code",
   "execution_count": 27,
   "id": "130952dc-d792-404c-b295-62487164f8c1",
   "metadata": {},
   "outputs": [
    {
     "data": {
      "text/html": [
       "<div>\n",
       "<style scoped>\n",
       "    .dataframe tbody tr th:only-of-type {\n",
       "        vertical-align: middle;\n",
       "    }\n",
       "\n",
       "    .dataframe tbody tr th {\n",
       "        vertical-align: top;\n",
       "    }\n",
       "\n",
       "    .dataframe thead th {\n",
       "        text-align: right;\n",
       "    }\n",
       "</style>\n",
       "<table border=\"1\" class=\"dataframe\">\n",
       "  <thead>\n",
       "    <tr style=\"text-align: right;\">\n",
       "      <th></th>\n",
       "      <th>location</th>\n",
       "      <th>total_laid_off</th>\n",
       "      <th>name</th>\n",
       "      <th>geometry</th>\n",
       "    </tr>\n",
       "  </thead>\n",
       "  <tbody>\n",
       "    <tr>\n",
       "      <th>0</th>\n",
       "      <td>SF Bay Area</td>\n",
       "      <td>78678.0</td>\n",
       "      <td>NaN</td>\n",
       "      <td>None</td>\n",
       "    </tr>\n",
       "    <tr>\n",
       "      <th>1</th>\n",
       "      <td>New York City</td>\n",
       "      <td>21554.0</td>\n",
       "      <td>NaN</td>\n",
       "      <td>None</td>\n",
       "    </tr>\n",
       "    <tr>\n",
       "      <th>3</th>\n",
       "      <td>Seattle</td>\n",
       "      <td>16051.0</td>\n",
       "      <td>NaN</td>\n",
       "      <td>None</td>\n",
       "    </tr>\n",
       "    <tr>\n",
       "      <th>4</th>\n",
       "      <td>Boston</td>\n",
       "      <td>7246.0</td>\n",
       "      <td>NaN</td>\n",
       "      <td>None</td>\n",
       "    </tr>\n",
       "    <tr>\n",
       "      <th>5</th>\n",
       "      <td>Sao Paulo</td>\n",
       "      <td>6325.0</td>\n",
       "      <td>NaN</td>\n",
       "      <td>None</td>\n",
       "    </tr>\n",
       "    <tr>\n",
       "      <th>11</th>\n",
       "      <td>Gurugram</td>\n",
       "      <td>4751.0</td>\n",
       "      <td>NaN</td>\n",
       "      <td>None</td>\n",
       "    </tr>\n",
       "    <tr>\n",
       "      <th>13</th>\n",
       "      <td>Phoenix</td>\n",
       "      <td>4113.0</td>\n",
       "      <td>NaN</td>\n",
       "      <td>None</td>\n",
       "    </tr>\n",
       "    <tr>\n",
       "      <th>16</th>\n",
       "      <td>Philadelphia</td>\n",
       "      <td>2340.0</td>\n",
       "      <td>NaN</td>\n",
       "      <td>None</td>\n",
       "    </tr>\n",
       "    <tr>\n",
       "      <th>20</th>\n",
       "      <td>Austin</td>\n",
       "      <td>1892.0</td>\n",
       "      <td>NaN</td>\n",
       "      <td>None</td>\n",
       "    </tr>\n",
       "    <tr>\n",
       "      <th>24</th>\n",
       "      <td>Shenzen</td>\n",
       "      <td>1500.0</td>\n",
       "      <td>NaN</td>\n",
       "      <td>None</td>\n",
       "    </tr>\n",
       "    <tr>\n",
       "      <th>27</th>\n",
       "      <td>Detroit</td>\n",
       "      <td>1180.0</td>\n",
       "      <td>NaN</td>\n",
       "      <td>None</td>\n",
       "    </tr>\n",
       "    <tr>\n",
       "      <th>29</th>\n",
       "      <td>San Luis Obispo</td>\n",
       "      <td>1100.0</td>\n",
       "      <td>NaN</td>\n",
       "      <td>None</td>\n",
       "    </tr>\n",
       "    <tr>\n",
       "      <th>31</th>\n",
       "      <td>Stamford</td>\n",
       "      <td>964.0</td>\n",
       "      <td>NaN</td>\n",
       "      <td>None</td>\n",
       "    </tr>\n",
       "    <tr>\n",
       "      <th>32</th>\n",
       "      <td>Columbus</td>\n",
       "      <td>933.0</td>\n",
       "      <td>NaN</td>\n",
       "      <td>None</td>\n",
       "    </tr>\n",
       "    <tr>\n",
       "      <th>33</th>\n",
       "      <td>Washington D.C.</td>\n",
       "      <td>867.0</td>\n",
       "      <td>NaN</td>\n",
       "      <td>None</td>\n",
       "    </tr>\n",
       "    <tr>\n",
       "      <th>34</th>\n",
       "      <td>San Diego</td>\n",
       "      <td>815.0</td>\n",
       "      <td>NaN</td>\n",
       "      <td>None</td>\n",
       "    </tr>\n",
       "    <tr>\n",
       "      <th>35</th>\n",
       "      <td>Salt Lake City</td>\n",
       "      <td>808.0</td>\n",
       "      <td>NaN</td>\n",
       "      <td>None</td>\n",
       "    </tr>\n",
       "    <tr>\n",
       "      <th>38</th>\n",
       "      <td>Montreal</td>\n",
       "      <td>635.0</td>\n",
       "      <td>NaN</td>\n",
       "      <td>None</td>\n",
       "    </tr>\n",
       "    <tr>\n",
       "      <th>39</th>\n",
       "      <td>Non-U.S.</td>\n",
       "      <td>575.0</td>\n",
       "      <td>NaN</td>\n",
       "      <td>None</td>\n",
       "    </tr>\n",
       "    <tr>\n",
       "      <th>40</th>\n",
       "      <td>Ahmedabad</td>\n",
       "      <td>500.0</td>\n",
       "      <td>NaN</td>\n",
       "      <td>None</td>\n",
       "    </tr>\n",
       "  </tbody>\n",
       "</table>\n",
       "</div>"
      ],
      "text/plain": [
       "           location  total_laid_off name geometry\n",
       "0       SF Bay Area         78678.0  NaN     None\n",
       "1     New York City         21554.0  NaN     None\n",
       "3           Seattle         16051.0  NaN     None\n",
       "4            Boston          7246.0  NaN     None\n",
       "5         Sao Paulo          6325.0  NaN     None\n",
       "11         Gurugram          4751.0  NaN     None\n",
       "13          Phoenix          4113.0  NaN     None\n",
       "16     Philadelphia          2340.0  NaN     None\n",
       "20           Austin          1892.0  NaN     None\n",
       "24          Shenzen          1500.0  NaN     None\n",
       "27          Detroit          1180.0  NaN     None\n",
       "29  San Luis Obispo          1100.0  NaN     None\n",
       "31         Stamford           964.0  NaN     None\n",
       "32         Columbus           933.0  NaN     None\n",
       "33  Washington D.C.           867.0  NaN     None\n",
       "34        San Diego           815.0  NaN     None\n",
       "35   Salt Lake City           808.0  NaN     None\n",
       "38         Montreal           635.0  NaN     None\n",
       "39         Non-U.S.           575.0  NaN     None\n",
       "40        Ahmedabad           500.0  NaN     None"
      ]
     },
     "execution_count": 27,
     "metadata": {},
     "output_type": "execute_result"
    }
   ],
   "source": [
    "df_map = gpd.GeoDataFrame(df_loc.merge(cities, left_on='location', right_on='name', how='outer'))\n",
    "df_map[df_map.geometry.isna()].head(20)"
   ]
  },
  {
   "cell_type": "code",
   "execution_count": 28,
   "id": "edc31861-7eba-483b-a1f8-d99e733e2db3",
   "metadata": {},
   "outputs": [
    {
     "data": {
      "text/html": [
       "<div>\n",
       "<style scoped>\n",
       "    .dataframe tbody tr th:only-of-type {\n",
       "        vertical-align: middle;\n",
       "    }\n",
       "\n",
       "    .dataframe tbody tr th {\n",
       "        vertical-align: top;\n",
       "    }\n",
       "\n",
       "    .dataframe thead th {\n",
       "        text-align: right;\n",
       "    }\n",
       "</style>\n",
       "<table border=\"1\" class=\"dataframe\">\n",
       "  <thead>\n",
       "    <tr style=\"text-align: right;\">\n",
       "      <th></th>\n",
       "      <th>location</th>\n",
       "      <th>total_laid_off</th>\n",
       "      <th>name</th>\n",
       "      <th>geometry</th>\n",
       "    </tr>\n",
       "  </thead>\n",
       "  <tbody>\n",
       "    <tr>\n",
       "      <th>39</th>\n",
       "      <td>Non-U.S.</td>\n",
       "      <td>575.0</td>\n",
       "      <td>NaN</td>\n",
       "      <td>None</td>\n",
       "    </tr>\n",
       "    <tr>\n",
       "      <th>40</th>\n",
       "      <td>Ahmedabad</td>\n",
       "      <td>500.0</td>\n",
       "      <td>NaN</td>\n",
       "      <td>None</td>\n",
       "    </tr>\n",
       "    <tr>\n",
       "      <th>41</th>\n",
       "      <td>Belo Horizonte</td>\n",
       "      <td>494.0</td>\n",
       "      <td>NaN</td>\n",
       "      <td>None</td>\n",
       "    </tr>\n",
       "    <tr>\n",
       "      <th>44</th>\n",
       "      <td>Curitiba</td>\n",
       "      <td>462.0</td>\n",
       "      <td>NaN</td>\n",
       "      <td>None</td>\n",
       "    </tr>\n",
       "    <tr>\n",
       "      <th>45</th>\n",
       "      <td>Las Vegas</td>\n",
       "      <td>405.0</td>\n",
       "      <td>NaN</td>\n",
       "      <td>None</td>\n",
       "    </tr>\n",
       "  </tbody>\n",
       "</table>\n",
       "</div>"
      ],
      "text/plain": [
       "          location  total_laid_off name geometry\n",
       "39        Non-U.S.           575.0  NaN     None\n",
       "40       Ahmedabad           500.0  NaN     None\n",
       "41  Belo Horizonte           494.0  NaN     None\n",
       "44        Curitiba           462.0  NaN     None\n",
       "45       Las Vegas           405.0  NaN     None"
      ]
     },
     "execution_count": 28,
     "metadata": {},
     "output_type": "execute_result"
    }
   ],
   "source": [
    "df_map.loc[df_map.location == 'SF Bay Area', 'geometry'] = gpd.points_from_xy([-122.39960], [37.78426])\n",
    "df_map.loc[df_map.location == 'New York City', 'geometry'] = gpd.points_from_xy([-73.99572], [40.72156])\n",
    "df_map.loc[df_map.location == 'Seattle', 'geometry'] = gpd.points_from_xy([-122.3321], [47.6062])\n",
    "df_map.loc[df_map.location == 'Boston', 'geometry'] = gpd.points_from_xy([-71.0589], [42.3601])\n",
    "df_map.loc[df_map.location == 'Sao Paulo', 'geometry'] = gpd.points_from_xy([-46.6396], [-23.5558])\n",
    "df_map.loc[df_map.location == 'Gurugram', 'geometry'] = gpd.points_from_xy([77.0266], [28.4595])\n",
    "df_map.loc[df_map.location == 'Phoenix', 'geometry'] = gpd.points_from_xy([-112.0740], [33.4484])\n",
    "df_map.loc[df_map.location == 'Philadelphia', 'geometry'] = gpd.points_from_xy([-75.1652], [39.9526])\n",
    "df_map.loc[df_map.location == 'Austin', 'geometry'] = gpd.points_from_xy([-97.7431], [30.2672])\n",
    "df_map.loc[df_map.location == 'Shenzen', 'geometry'] = gpd.points_from_xy([114.0596], [22.5429])\n",
    "df_map.loc[df_map.location == 'Detroit', 'geometry'] = gpd.points_from_xy([-83.0458], [42.3314])\n",
    "df_map.loc[df_map.location == 'San Luis Obispo', 'geometry'] = gpd.points_from_xy([-120.6596], [35.2828])\n",
    "df_map.loc[df_map.location == 'Stamford', 'geometry'] = gpd.points_from_xy([-73.5387], [41.0534])\n",
    "df_map.loc[df_map.location == 'Columbus', 'geometry'] = gpd.points_from_xy([-82.9988], [39.9612])\n",
    "df_map.loc[df_map.location == 'Washington D.C.', 'geometry'] = gpd.points_from_xy([-77.0369], [38.9072])\n",
    "df_map.loc[df_map.location == 'San Diego', 'geometry'] = gpd.points_from_xy([-117.1611], [32.7157])\n",
    "df_map.loc[df_map.location == 'Salt Lake City', 'geometry'] = gpd.points_from_xy([-111.8910], [40.7608])\n",
    "df_map.loc[df_map.location == 'Montreal', 'geometry'] = gpd.points_from_xy([-73.5674], [45.5019])\n",
    "\n",
    "df_map[df_map.geometry.isna()].head()"
   ]
  },
  {
   "cell_type": "code",
   "execution_count": 29,
   "id": "f548be26-dc1d-452c-83ee-a355316eabe1",
   "metadata": {},
   "outputs": [
    {
     "data": {
      "text/html": [
       "<div>\n",
       "<style scoped>\n",
       "    .dataframe tbody tr th:only-of-type {\n",
       "        vertical-align: middle;\n",
       "    }\n",
       "\n",
       "    .dataframe tbody tr th {\n",
       "        vertical-align: top;\n",
       "    }\n",
       "\n",
       "    .dataframe thead th {\n",
       "        text-align: right;\n",
       "    }\n",
       "</style>\n",
       "<table border=\"1\" class=\"dataframe\">\n",
       "  <thead>\n",
       "    <tr style=\"text-align: right;\">\n",
       "      <th></th>\n",
       "      <th>location</th>\n",
       "      <th>total_laid_off</th>\n",
       "      <th>name</th>\n",
       "      <th>geometry</th>\n",
       "      <th>latitude</th>\n",
       "      <th>longitude</th>\n",
       "    </tr>\n",
       "  </thead>\n",
       "  <tbody>\n",
       "    <tr>\n",
       "      <th>0</th>\n",
       "      <td>SF Bay Area</td>\n",
       "      <td>78678.0</td>\n",
       "      <td>NaN</td>\n",
       "      <td>POINT (-122.39960 37.78426)</td>\n",
       "      <td>37.784260</td>\n",
       "      <td>-122.399600</td>\n",
       "    </tr>\n",
       "    <tr>\n",
       "      <th>1</th>\n",
       "      <td>New York City</td>\n",
       "      <td>21554.0</td>\n",
       "      <td>NaN</td>\n",
       "      <td>POINT (-73.99572 40.72156)</td>\n",
       "      <td>40.721560</td>\n",
       "      <td>-73.995720</td>\n",
       "    </tr>\n",
       "    <tr>\n",
       "      <th>2</th>\n",
       "      <td>Bengaluru</td>\n",
       "      <td>16790.0</td>\n",
       "      <td>Bengaluru</td>\n",
       "      <td>POINT (77.55806 12.97194)</td>\n",
       "      <td>12.971941</td>\n",
       "      <td>77.558064</td>\n",
       "    </tr>\n",
       "    <tr>\n",
       "      <th>3</th>\n",
       "      <td>Seattle</td>\n",
       "      <td>16051.0</td>\n",
       "      <td>NaN</td>\n",
       "      <td>POINT (-122.33210 47.60620)</td>\n",
       "      <td>47.606200</td>\n",
       "      <td>-122.332100</td>\n",
       "    </tr>\n",
       "    <tr>\n",
       "      <th>4</th>\n",
       "      <td>Boston</td>\n",
       "      <td>7246.0</td>\n",
       "      <td>NaN</td>\n",
       "      <td>POINT (-71.05890 42.36010)</td>\n",
       "      <td>42.360100</td>\n",
       "      <td>-71.058900</td>\n",
       "    </tr>\n",
       "  </tbody>\n",
       "</table>\n",
       "</div>"
      ],
      "text/plain": [
       "        location  total_laid_off       name                     geometry  \\\n",
       "0    SF Bay Area         78678.0        NaN  POINT (-122.39960 37.78426)   \n",
       "1  New York City         21554.0        NaN   POINT (-73.99572 40.72156)   \n",
       "2      Bengaluru         16790.0  Bengaluru    POINT (77.55806 12.97194)   \n",
       "3        Seattle         16051.0        NaN  POINT (-122.33210 47.60620)   \n",
       "4         Boston          7246.0        NaN   POINT (-71.05890 42.36010)   \n",
       "\n",
       "    latitude   longitude  \n",
       "0  37.784260 -122.399600  \n",
       "1  40.721560  -73.995720  \n",
       "2  12.971941   77.558064  \n",
       "3  47.606200 -122.332100  \n",
       "4  42.360100  -71.058900  "
      ]
     },
     "execution_count": 29,
     "metadata": {},
     "output_type": "execute_result"
    }
   ],
   "source": [
    "df_map['latitude'] = df_map.geometry.apply(lambda x: x.y if x else None)\n",
    "df_map['longitude'] = df_map.geometry.apply(lambda x: x.x if x else None)\n",
    "df_map.head()"
   ]
  },
  {
   "cell_type": "code",
   "execution_count": 30,
   "id": "a14d2667-f61b-440f-8dad-73fa6739cb47",
   "metadata": {},
   "outputs": [
    {
     "data": {
      "image/png": "[encoded data removed]",
      "text/plain": [
       "<Figure size 864x432 with 1 Axes>"
      ]
     },
     "metadata": {
      "needs_background": "light"
     },
     "output_type": "display_data"
    }
   ],
   "source": [
    "world = gpd.read_file(gpd.datasets.get_path('naturalearth_lowres'))\n",
    "\n",
    "fig, ax = plt.subplots(figsize=(12, 6))\n",
    "world.plot(ax=ax, color='cyan', alpha=0.3)\n",
    "df_map.plot(ax=ax, marker='.', color='red', markersize='total_laid_off', alpha=0.2)\n",
    "plt.title('Total Layoffs in Different Locations')\n",
    "plt.xlabel('Longitude')\n",
    "plt.ylabel('Latitude')\n",
    "plt.show()"
   ]
  },
  {
   "cell_type": "markdown",
   "id": "73f89156-9852-45ff-b745-c29626fba3f1",
   "metadata": {},
   "source": [
    "## Timeline"
   ]
  },
  {
   "cell_type": "code",
   "execution_count": 31,
   "id": "d43dee5b-41d9-4113-9fd1-9070cc59b62f",
   "metadata": {},
   "outputs": [
    {
     "data": {
      "text/html": [
       "<div>\n",
       "<style scoped>\n",
       "    .dataframe tbody tr th:only-of-type {\n",
       "        vertical-align: middle;\n",
       "    }\n",
       "\n",
       "    .dataframe tbody tr th {\n",
       "        vertical-align: top;\n",
       "    }\n",
       "\n",
       "    .dataframe thead th {\n",
       "        text-align: right;\n",
       "    }\n",
       "</style>\n",
       "<table border=\"1\" class=\"dataframe\">\n",
       "  <thead>\n",
       "    <tr style=\"text-align: right;\">\n",
       "      <th></th>\n",
       "      <th>company</th>\n",
       "      <th>location</th>\n",
       "      <th>industry</th>\n",
       "      <th>total_laid_off</th>\n",
       "      <th>percentage_laid_off</th>\n",
       "      <th>date</th>\n",
       "      <th>stage</th>\n",
       "      <th>country</th>\n",
       "      <th>funds_raised</th>\n",
       "      <th>year</th>\n",
       "      <th>month</th>\n",
       "      <th>quarter</th>\n",
       "    </tr>\n",
       "  </thead>\n",
       "  <tbody>\n",
       "    <tr>\n",
       "      <th>0</th>\n",
       "      <td>BloomTech</td>\n",
       "      <td>SF Bay Area</td>\n",
       "      <td>Education</td>\n",
       "      <td>88.0</td>\n",
       "      <td>0.50</td>\n",
       "      <td>2022-12-01</td>\n",
       "      <td>Unknown</td>\n",
       "      <td>United States</td>\n",
       "      <td>NaN</td>\n",
       "      <td>2022</td>\n",
       "      <td>12</td>\n",
       "      <td>4</td>\n",
       "    </tr>\n",
       "    <tr>\n",
       "      <th>1</th>\n",
       "      <td>Podium</td>\n",
       "      <td>Lehi</td>\n",
       "      <td>Support</td>\n",
       "      <td>NaN</td>\n",
       "      <td>0.12</td>\n",
       "      <td>2022-12-01</td>\n",
       "      <td>Series D</td>\n",
       "      <td>United States</td>\n",
       "      <td>419.0</td>\n",
       "      <td>2022</td>\n",
       "      <td>12</td>\n",
       "      <td>4</td>\n",
       "    </tr>\n",
       "    <tr>\n",
       "      <th>2</th>\n",
       "      <td>DoorDash</td>\n",
       "      <td>SF Bay Area</td>\n",
       "      <td>Food</td>\n",
       "      <td>1250.0</td>\n",
       "      <td>0.06</td>\n",
       "      <td>2022-11-30</td>\n",
       "      <td>IPO</td>\n",
       "      <td>United States</td>\n",
       "      <td>2500.0</td>\n",
       "      <td>2022</td>\n",
       "      <td>11</td>\n",
       "      <td>4</td>\n",
       "    </tr>\n",
       "    <tr>\n",
       "      <th>3</th>\n",
       "      <td>Kraken</td>\n",
       "      <td>SF Bay Area</td>\n",
       "      <td>Crypto</td>\n",
       "      <td>1100.0</td>\n",
       "      <td>0.30</td>\n",
       "      <td>2022-11-30</td>\n",
       "      <td>Unknown</td>\n",
       "      <td>United States</td>\n",
       "      <td>134.0</td>\n",
       "      <td>2022</td>\n",
       "      <td>11</td>\n",
       "      <td>4</td>\n",
       "    </tr>\n",
       "    <tr>\n",
       "      <th>4</th>\n",
       "      <td>Happy Money</td>\n",
       "      <td>Los Angeles</td>\n",
       "      <td>Finance</td>\n",
       "      <td>158.0</td>\n",
       "      <td>0.34</td>\n",
       "      <td>2022-11-30</td>\n",
       "      <td>Series D</td>\n",
       "      <td>United States</td>\n",
       "      <td>191.0</td>\n",
       "      <td>2022</td>\n",
       "      <td>11</td>\n",
       "      <td>4</td>\n",
       "    </tr>\n",
       "  </tbody>\n",
       "</table>\n",
       "</div>"
      ],
      "text/plain": [
       "       company     location   industry  total_laid_off  percentage_laid_off  \\\n",
       "0    BloomTech  SF Bay Area  Education            88.0                 0.50   \n",
       "1       Podium         Lehi    Support             NaN                 0.12   \n",
       "2     DoorDash  SF Bay Area       Food          1250.0                 0.06   \n",
       "3       Kraken  SF Bay Area     Crypto          1100.0                 0.30   \n",
       "4  Happy Money  Los Angeles    Finance           158.0                 0.34   \n",
       "\n",
       "        date     stage        country  funds_raised  year  month  quarter  \n",
       "0 2022-12-01   Unknown  United States           NaN  2022     12        4  \n",
       "1 2022-12-01  Series D  United States         419.0  2022     12        4  \n",
       "2 2022-11-30       IPO  United States        2500.0  2022     11        4  \n",
       "3 2022-11-30   Unknown  United States         134.0  2022     11        4  \n",
       "4 2022-11-30  Series D  United States         191.0  2022     11        4  "
      ]
     },
     "execution_count": 31,
     "metadata": {},
     "output_type": "execute_result"
    }
   ],
   "source": [
    "df['date'] = pd.to_datetime(df['date'])\n",
    "df['year'] = df['date'].apply(lambda x: x.year)\n",
    "df['month'] = df['date'].apply(lambda x: x.month)\n",
    "df['quarter'] = df['month'].apply(lambda x: int(np.ceil(x / 3)))\n",
    "df.head()"
   ]
  },
  {
   "cell_type": "markdown",
   "id": "390176a6-2eae-4d7d-95ec-cba8f1191b28",
   "metadata": {},
   "source": [
    "#### By Date"
   ]
  },
  {
   "cell_type": "code",
   "execution_count": 32,
   "id": "66df2055-b97d-4154-be35-1e40977b0928",
   "metadata": {},
   "outputs": [
    {
     "data": {
      "text/html": [
       "<div>\n",
       "<style scoped>\n",
       "    .dataframe tbody tr th:only-of-type {\n",
       "        vertical-align: middle;\n",
       "    }\n",
       "\n",
       "    .dataframe tbody tr th {\n",
       "        vertical-align: top;\n",
       "    }\n",
       "\n",
       "    .dataframe thead th {\n",
       "        text-align: right;\n",
       "    }\n",
       "</style>\n",
       "<table border=\"1\" class=\"dataframe\">\n",
       "  <thead>\n",
       "    <tr style=\"text-align: right;\">\n",
       "      <th></th>\n",
       "      <th>date</th>\n",
       "      <th>total_laid_off</th>\n",
       "    </tr>\n",
       "  </thead>\n",
       "  <tbody>\n",
       "    <tr>\n",
       "      <th>0</th>\n",
       "      <td>2020-03-11</td>\n",
       "      <td>75.0</td>\n",
       "    </tr>\n",
       "    <tr>\n",
       "      <th>1</th>\n",
       "      <td>2020-03-12</td>\n",
       "      <td>20.0</td>\n",
       "    </tr>\n",
       "    <tr>\n",
       "      <th>2</th>\n",
       "      <td>2020-03-13</td>\n",
       "      <td>14.0</td>\n",
       "    </tr>\n",
       "    <tr>\n",
       "      <th>3</th>\n",
       "      <td>2020-03-16</td>\n",
       "      <td>146.0</td>\n",
       "    </tr>\n",
       "    <tr>\n",
       "      <th>4</th>\n",
       "      <td>2020-03-18</td>\n",
       "      <td>4.0</td>\n",
       "    </tr>\n",
       "  </tbody>\n",
       "</table>\n",
       "</div>"
      ],
      "text/plain": [
       "        date  total_laid_off\n",
       "0 2020-03-11            75.0\n",
       "1 2020-03-12            20.0\n",
       "2 2020-03-13            14.0\n",
       "3 2020-03-16           146.0\n",
       "4 2020-03-18             4.0"
      ]
     },
     "execution_count": 32,
     "metadata": {},
     "output_type": "execute_result"
    }
   ],
   "source": [
    "df_day = df.fillna(0).groupby(['date']).agg({'total_laid_off': 'sum'})\n",
    "df_day = df_day.sort_values(by='date', ascending=True).reset_index()\n",
    "df_day.head()"
   ]
  },
  {
   "cell_type": "code",
   "execution_count": 33,
   "id": "ed072211-a3a8-42d7-8588-591ce17b3762",
   "metadata": {},
   "outputs": [
    {
     "data": {
      "text/html": [
       "<div>\n",
       "<style scoped>\n",
       "    .dataframe tbody tr th:only-of-type {\n",
       "        vertical-align: middle;\n",
       "    }\n",
       "\n",
       "    .dataframe tbody tr th {\n",
       "        vertical-align: top;\n",
       "    }\n",
       "\n",
       "    .dataframe thead th {\n",
       "        text-align: right;\n",
       "    }\n",
       "</style>\n",
       "<table border=\"1\" class=\"dataframe\">\n",
       "  <thead>\n",
       "    <tr style=\"text-align: right;\">\n",
       "      <th></th>\n",
       "      <th>date</th>\n",
       "      <th>total_laid_off</th>\n",
       "      <th>smoothed</th>\n",
       "    </tr>\n",
       "  </thead>\n",
       "  <tbody>\n",
       "    <tr>\n",
       "      <th>0</th>\n",
       "      <td>2020-03-11</td>\n",
       "      <td>75.0</td>\n",
       "      <td>26.0</td>\n",
       "    </tr>\n",
       "    <tr>\n",
       "      <th>1</th>\n",
       "      <td>2020-03-12</td>\n",
       "      <td>20.0</td>\n",
       "      <td>55.0</td>\n",
       "    </tr>\n",
       "    <tr>\n",
       "      <th>2</th>\n",
       "      <td>2020-03-13</td>\n",
       "      <td>14.0</td>\n",
       "      <td>142.0</td>\n",
       "    </tr>\n",
       "    <tr>\n",
       "      <th>3</th>\n",
       "      <td>2020-03-16</td>\n",
       "      <td>146.0</td>\n",
       "      <td>215.0</td>\n",
       "    </tr>\n",
       "    <tr>\n",
       "      <th>4</th>\n",
       "      <td>2020-03-18</td>\n",
       "      <td>4.0</td>\n",
       "      <td>286.0</td>\n",
       "    </tr>\n",
       "  </tbody>\n",
       "</table>\n",
       "</div>"
      ],
      "text/plain": [
       "        date  total_laid_off  smoothed\n",
       "0 2020-03-11            75.0      26.0\n",
       "1 2020-03-12            20.0      55.0\n",
       "2 2020-03-13            14.0     142.0\n",
       "3 2020-03-16           146.0     215.0\n",
       "4 2020-03-18             4.0     286.0"
      ]
     },
     "execution_count": 33,
     "metadata": {},
     "output_type": "execute_result"
    }
   ],
   "source": [
    "def smooth(y, n_pts):\n",
    "    kernel = np.ones(n_pts) / n_pts\n",
    "    return np.convolve(y, kernel, mode='same').round()\n",
    "\n",
    "df_day['smoothed'] = smooth(df_day.total_laid_off, 10)\n",
    "df_day.head()"
   ]
  },
  {
   "cell_type": "code",
   "execution_count": 34,
   "id": "6ed8e4b7-997e-4637-94b4-6098209e75b8",
   "metadata": {},
   "outputs": [
    {
     "data": {
      "image/png": "[encoded data removed]",
      "text/plain": [
       "<Figure size 864x360 with 1 Axes>"
      ]
     },
     "metadata": {
      "needs_background": "light"
     },
     "output_type": "display_data"
    }
   ],
   "source": [
    "plt.figure(figsize=(12, 5))\n",
    "sns.lineplot(df_day, x='date', y='total_laid_off', label='actual')\n",
    "sns.lineplot(df_day, x='date', y='smoothed', label='10-day smoothed', linewidth=3, linestyle='dashed')\n",
    "plt.title('Layoff Timeline (since COVID)')\n",
    "plt.xlabel('Date')\n",
    "plt.ylabel('Total Layoff')\n",
    "plt.legend()\n",
    "plt.show()"
   ]
  },
  {
   "cell_type": "markdown",
   "id": "e8b86431-d395-4229-b0cc-0217a7d0bfe9",
   "metadata": {},
   "source": [
    "#### Frequency"
   ]
  },
  {
   "cell_type": "code",
   "execution_count": 35,
   "id": "283f505b-d6bb-4597-a638-52cc7a80f4a5",
   "metadata": {},
   "outputs": [
    {
     "data": {
      "text/plain": [
       "2.5"
      ]
     },
     "execution_count": 35,
     "metadata": {},
     "output_type": "execute_result"
    }
   ],
   "source": [
    "dates = df['date'].drop_duplicates().sort_values().reset_index(drop=True)\n",
    "diffs = dates.diff().apply(lambda x: x.days)\n",
    "diffs.mean().round(1)"
   ]
  },
  {
   "cell_type": "code",
   "execution_count": 36,
   "id": "64e97b37-b8e9-4790-9b49-3e0f83df729a",
   "metadata": {},
   "outputs": [
    {
     "data": {
      "text/plain": [
       "55.0"
      ]
     },
     "execution_count": 36,
     "metadata": {},
     "output_type": "execute_result"
    }
   ],
   "source": [
    "diffs.max()"
   ]
  },
  {
   "cell_type": "code",
   "execution_count": 37,
   "id": "8b74bade-9479-4a53-a791-b619f17eadbd",
   "metadata": {},
   "outputs": [
    {
     "data": {
      "image/png": "[encoded data removed]",
      "text/plain": [
       "<Figure size 864x360 with 1 Axes>"
      ]
     },
     "metadata": {
      "needs_background": "light"
     },
     "output_type": "display_data"
    }
   ],
   "source": [
    "plt.figure(figsize=(12, 5))\n",
    "sns.histplot(diffs, bins=60)\n",
    "plt.title('Days Between Layoff Events')\n",
    "plt.xlabel('Days')\n",
    "plt.ylabel('Events')\n",
    "plt.show()"
   ]
  },
  {
   "cell_type": "markdown",
   "id": "bba23979-0e9f-4cf1-8dbd-341ca75080db",
   "metadata": {},
   "source": [
    "#### Company Frequency"
   ]
  },
  {
   "cell_type": "code",
   "execution_count": 38,
   "id": "f17ecb95-4168-45e0-94de-ecc7463a0e77",
   "metadata": {},
   "outputs": [
    {
     "data": {
      "text/plain": [
       "company\n",
       "Uber         5\n",
       "Gopuff       4\n",
       "Latch        4\n",
       "Loft         4\n",
       "Netflix      4\n",
       "Patreon      4\n",
       "Shopify      4\n",
       "WeWork       4\n",
       "Bounce       3\n",
       "Bytedance    3\n",
       "Name: total_laid_off, dtype: int64"
      ]
     },
     "execution_count": 38,
     "metadata": {},
     "output_type": "execute_result"
    }
   ],
   "source": [
    "df.groupby('company')['total_laid_off'].count().nlargest(10)"
   ]
  },
  {
   "cell_type": "code",
   "execution_count": 39,
   "id": "f25d34d9-746d-4019-83ae-ca6a6682f88b",
   "metadata": {},
   "outputs": [
    {
     "data": {
      "text/html": [
       "<div>\n",
       "<style scoped>\n",
       "    .dataframe tbody tr th:only-of-type {\n",
       "        vertical-align: middle;\n",
       "    }\n",
       "\n",
       "    .dataframe tbody tr th {\n",
       "        vertical-align: top;\n",
       "    }\n",
       "\n",
       "    .dataframe thead th {\n",
       "        text-align: right;\n",
       "    }\n",
       "</style>\n",
       "<table border=\"1\" class=\"dataframe\">\n",
       "  <thead>\n",
       "    <tr style=\"text-align: right;\">\n",
       "      <th></th>\n",
       "      <th>company</th>\n",
       "      <th>location</th>\n",
       "      <th>industry</th>\n",
       "      <th>total_laid_off</th>\n",
       "      <th>percentage_laid_off</th>\n",
       "      <th>date</th>\n",
       "      <th>stage</th>\n",
       "      <th>country</th>\n",
       "      <th>funds_raised</th>\n",
       "      <th>year</th>\n",
       "      <th>month</th>\n",
       "      <th>quarter</th>\n",
       "    </tr>\n",
       "  </thead>\n",
       "  <tbody>\n",
       "    <tr>\n",
       "      <th>373</th>\n",
       "      <td>Uber</td>\n",
       "      <td>Vilnius</td>\n",
       "      <td>Transportation</td>\n",
       "      <td>60.0</td>\n",
       "      <td>NaN</td>\n",
       "      <td>2022-09-07</td>\n",
       "      <td>IPO</td>\n",
       "      <td>Lithuania</td>\n",
       "      <td>24700.0</td>\n",
       "      <td>2022</td>\n",
       "      <td>9</td>\n",
       "      <td>3</td>\n",
       "    </tr>\n",
       "    <tr>\n",
       "      <th>1191</th>\n",
       "      <td>Uber</td>\n",
       "      <td>Amsterdam</td>\n",
       "      <td>Transportation</td>\n",
       "      <td>225.0</td>\n",
       "      <td>0.25</td>\n",
       "      <td>2020-06-12</td>\n",
       "      <td>IPO</td>\n",
       "      <td>Netherlands</td>\n",
       "      <td>24700.0</td>\n",
       "      <td>2020</td>\n",
       "      <td>6</td>\n",
       "      <td>2</td>\n",
       "    </tr>\n",
       "    <tr>\n",
       "      <th>1223</th>\n",
       "      <td>Uber</td>\n",
       "      <td>Bengaluru</td>\n",
       "      <td>Transportation</td>\n",
       "      <td>600.0</td>\n",
       "      <td>0.23</td>\n",
       "      <td>2020-05-26</td>\n",
       "      <td>IPO</td>\n",
       "      <td>India</td>\n",
       "      <td>24700.0</td>\n",
       "      <td>2020</td>\n",
       "      <td>5</td>\n",
       "      <td>2</td>\n",
       "    </tr>\n",
       "    <tr>\n",
       "      <th>1242</th>\n",
       "      <td>Uber</td>\n",
       "      <td>SF Bay Area</td>\n",
       "      <td>Transportation</td>\n",
       "      <td>3000.0</td>\n",
       "      <td>0.13</td>\n",
       "      <td>2020-05-18</td>\n",
       "      <td>IPO</td>\n",
       "      <td>United States</td>\n",
       "      <td>24700.0</td>\n",
       "      <td>2020</td>\n",
       "      <td>5</td>\n",
       "      <td>2</td>\n",
       "    </tr>\n",
       "    <tr>\n",
       "      <th>1287</th>\n",
       "      <td>Uber</td>\n",
       "      <td>SF Bay Area</td>\n",
       "      <td>Transportation</td>\n",
       "      <td>3700.0</td>\n",
       "      <td>0.14</td>\n",
       "      <td>2020-05-06</td>\n",
       "      <td>IPO</td>\n",
       "      <td>United States</td>\n",
       "      <td>24700.0</td>\n",
       "      <td>2020</td>\n",
       "      <td>5</td>\n",
       "      <td>2</td>\n",
       "    </tr>\n",
       "  </tbody>\n",
       "</table>\n",
       "</div>"
      ],
      "text/plain": [
       "     company     location        industry  total_laid_off  \\\n",
       "373     Uber      Vilnius  Transportation            60.0   \n",
       "1191    Uber    Amsterdam  Transportation           225.0   \n",
       "1223    Uber    Bengaluru  Transportation           600.0   \n",
       "1242    Uber  SF Bay Area  Transportation          3000.0   \n",
       "1287    Uber  SF Bay Area  Transportation          3700.0   \n",
       "\n",
       "      percentage_laid_off       date stage        country  funds_raised  year  \\\n",
       "373                   NaN 2022-09-07   IPO      Lithuania       24700.0  2022   \n",
       "1191                 0.25 2020-06-12   IPO    Netherlands       24700.0  2020   \n",
       "1223                 0.23 2020-05-26   IPO          India       24700.0  2020   \n",
       "1242                 0.13 2020-05-18   IPO  United States       24700.0  2020   \n",
       "1287                 0.14 2020-05-06   IPO  United States       24700.0  2020   \n",
       "\n",
       "      month  quarter  \n",
       "373       9        3  \n",
       "1191      6        2  \n",
       "1223      5        2  \n",
       "1242      5        2  \n",
       "1287      5        2  "
      ]
     },
     "execution_count": 39,
     "metadata": {},
     "output_type": "execute_result"
    }
   ],
   "source": [
    "df[df.company == 'Uber']"
   ]
  },
  {
   "cell_type": "markdown",
   "id": "99353849-70f2-4f24-a8ce-198878db19e6",
   "metadata": {},
   "source": [
    "#### By Month"
   ]
  },
  {
   "cell_type": "code",
   "execution_count": 40,
   "id": "b6d4712d-752a-4665-9126-6c69d8338975",
   "metadata": {},
   "outputs": [
    {
     "data": {
      "text/html": [
       "<div>\n",
       "<style scoped>\n",
       "    .dataframe tbody tr th:only-of-type {\n",
       "        vertical-align: middle;\n",
       "    }\n",
       "\n",
       "    .dataframe tbody tr th {\n",
       "        vertical-align: top;\n",
       "    }\n",
       "\n",
       "    .dataframe thead th {\n",
       "        text-align: right;\n",
       "    }\n",
       "</style>\n",
       "<table border=\"1\" class=\"dataframe\">\n",
       "  <thead>\n",
       "    <tr style=\"text-align: right;\">\n",
       "      <th></th>\n",
       "      <th>month_</th>\n",
       "      <th>total_laid_off_sum</th>\n",
       "      <th>total_laid_off_count</th>\n",
       "    </tr>\n",
       "  </thead>\n",
       "  <tbody>\n",
       "    <tr>\n",
       "      <th>0</th>\n",
       "      <td>1</td>\n",
       "      <td>6523.0</td>\n",
       "      <td>13</td>\n",
       "    </tr>\n",
       "    <tr>\n",
       "      <th>1</th>\n",
       "      <td>2</td>\n",
       "      <td>4493.0</td>\n",
       "      <td>19</td>\n",
       "    </tr>\n",
       "    <tr>\n",
       "      <th>2</th>\n",
       "      <td>3</td>\n",
       "      <td>15369.0</td>\n",
       "      <td>142</td>\n",
       "    </tr>\n",
       "    <tr>\n",
       "      <th>3</th>\n",
       "      <td>4</td>\n",
       "      <td>31035.0</td>\n",
       "      <td>302</td>\n",
       "    </tr>\n",
       "    <tr>\n",
       "      <th>4</th>\n",
       "      <td>5</td>\n",
       "      <td>38339.0</td>\n",
       "      <td>186</td>\n",
       "    </tr>\n",
       "    <tr>\n",
       "      <th>5</th>\n",
       "      <td>6</td>\n",
       "      <td>27645.0</td>\n",
       "      <td>243</td>\n",
       "    </tr>\n",
       "    <tr>\n",
       "      <th>6</th>\n",
       "      <td>7</td>\n",
       "      <td>23415.0</td>\n",
       "      <td>188</td>\n",
       "    </tr>\n",
       "    <tr>\n",
       "      <th>7</th>\n",
       "      <td>8</td>\n",
       "      <td>16931.0</td>\n",
       "      <td>179</td>\n",
       "    </tr>\n",
       "    <tr>\n",
       "      <th>8</th>\n",
       "      <td>9</td>\n",
       "      <td>6651.0</td>\n",
       "      <td>113</td>\n",
       "    </tr>\n",
       "    <tr>\n",
       "      <th>9</th>\n",
       "      <td>10</td>\n",
       "      <td>13155.0</td>\n",
       "      <td>109</td>\n",
       "    </tr>\n",
       "    <tr>\n",
       "      <th>10</th>\n",
       "      <td>11</td>\n",
       "      <td>53492.0</td>\n",
       "      <td>211</td>\n",
       "    </tr>\n",
       "    <tr>\n",
       "      <th>11</th>\n",
       "      <td>12</td>\n",
       "      <td>2140.0</td>\n",
       "      <td>9</td>\n",
       "    </tr>\n",
       "  </tbody>\n",
       "</table>\n",
       "</div>"
      ],
      "text/plain": [
       "    month_  total_laid_off_sum  total_laid_off_count\n",
       "0        1              6523.0                    13\n",
       "1        2              4493.0                    19\n",
       "2        3             15369.0                   142\n",
       "3        4             31035.0                   302\n",
       "4        5             38339.0                   186\n",
       "5        6             27645.0                   243\n",
       "6        7             23415.0                   188\n",
       "7        8             16931.0                   179\n",
       "8        9              6651.0                   113\n",
       "9       10             13155.0                   109\n",
       "10      11             53492.0                   211\n",
       "11      12              2140.0                     9"
      ]
     },
     "execution_count": 40,
     "metadata": {},
     "output_type": "execute_result"
    }
   ],
   "source": [
    "df_mon = df.fillna(0).groupby(['month']).agg({'total_laid_off': ['sum', 'count']})\n",
    "df_mon = df_mon.sort_values(by='month', ascending=True).reset_index()\n",
    "df_mon.columns = ['_'.join(col).strip() for col in df_mon.columns.values]\n",
    "df_mon"
   ]
  },
  {
   "cell_type": "code",
   "execution_count": 41,
   "id": "30e5a3ef-8c92-4d3a-a69f-e6d606840daa",
   "metadata": {},
   "outputs": [
    {
     "data": {
      "image/png": "[encoded data removed]",
      "text/plain": [
       "<Figure size 576x360 with 1 Axes>"
      ]
     },
     "metadata": {
      "needs_background": "light"
     },
     "output_type": "display_data"
    }
   ],
   "source": [
    "plt.figure(figsize=(8, 5))\n",
    "sns.barplot(df_mon, x='month_', y='total_laid_off_sum')\n",
    "plt.title('Monthly Layoff Totals')\n",
    "plt.xlabel('Month')\n",
    "plt.ylabel('Total Layoff')\n",
    "plt.show()"
   ]
  },
  {
   "cell_type": "code",
   "execution_count": 42,
   "id": "26aff10d-6954-488f-8c77-b62d39e15226",
   "metadata": {},
   "outputs": [
    {
     "data": {
      "image/png": "[encoded data removed]",
      "text/plain": [
       "<Figure size 576x360 with 1 Axes>"
      ]
     },
     "metadata": {
      "needs_background": "light"
     },
     "output_type": "display_data"
    }
   ],
   "source": [
    "plt.figure(figsize=(8, 5))\n",
    "sns.barplot(df_mon, x='month_', y='total_laid_off_count')\n",
    "plt.title('Monthly Layoff Events')\n",
    "plt.xlabel('Month')\n",
    "plt.ylabel('Layoff Events')\n",
    "plt.show()"
   ]
  },
  {
   "cell_type": "markdown",
   "id": "ce5f5ae7-d92f-4cd8-9b64-95c3179ab448",
   "metadata": {},
   "source": [
    "#### By Quarter"
   ]
  },
  {
   "cell_type": "code",
   "execution_count": 43,
   "id": "f8b5f79c-fd36-4194-89f4-3f5d8f97eecc",
   "metadata": {},
   "outputs": [
    {
     "data": {
      "text/html": [
       "<div>\n",
       "<style scoped>\n",
       "    .dataframe tbody tr th:only-of-type {\n",
       "        vertical-align: middle;\n",
       "    }\n",
       "\n",
       "    .dataframe tbody tr th {\n",
       "        vertical-align: top;\n",
       "    }\n",
       "\n",
       "    .dataframe thead th {\n",
       "        text-align: right;\n",
       "    }\n",
       "</style>\n",
       "<table border=\"1\" class=\"dataframe\">\n",
       "  <thead>\n",
       "    <tr style=\"text-align: right;\">\n",
       "      <th></th>\n",
       "      <th>quarter_</th>\n",
       "      <th>total_laid_off_sum</th>\n",
       "      <th>total_laid_off_count</th>\n",
       "    </tr>\n",
       "  </thead>\n",
       "  <tbody>\n",
       "    <tr>\n",
       "      <th>0</th>\n",
       "      <td>1</td>\n",
       "      <td>26385.0</td>\n",
       "      <td>174</td>\n",
       "    </tr>\n",
       "    <tr>\n",
       "      <th>1</th>\n",
       "      <td>2</td>\n",
       "      <td>97019.0</td>\n",
       "      <td>731</td>\n",
       "    </tr>\n",
       "    <tr>\n",
       "      <th>2</th>\n",
       "      <td>3</td>\n",
       "      <td>46997.0</td>\n",
       "      <td>480</td>\n",
       "    </tr>\n",
       "    <tr>\n",
       "      <th>3</th>\n",
       "      <td>4</td>\n",
       "      <td>68787.0</td>\n",
       "      <td>329</td>\n",
       "    </tr>\n",
       "  </tbody>\n",
       "</table>\n",
       "</div>"
      ],
      "text/plain": [
       "   quarter_  total_laid_off_sum  total_laid_off_count\n",
       "0         1             26385.0                   174\n",
       "1         2             97019.0                   731\n",
       "2         3             46997.0                   480\n",
       "3         4             68787.0                   329"
      ]
     },
     "execution_count": 43,
     "metadata": {},
     "output_type": "execute_result"
    }
   ],
   "source": [
    "df_qtr = df.fillna(0).groupby(['quarter']).agg({'total_laid_off': ['sum', 'count']})\n",
    "df_qtr = df_qtr.sort_values(by='quarter', ascending=True).reset_index()\n",
    "df_qtr.columns = ['_'.join(col).strip() for col in df_qtr.columns.values]\n",
    "df_qtr"
   ]
  },
  {
   "cell_type": "code",
   "execution_count": 44,
   "id": "507c8384-4e96-40bf-8f86-189ea38210a9",
   "metadata": {},
   "outputs": [
    {
     "data": {
      "image/png": "[encoded data removed]",
      "text/plain": [
       "<Figure size 360x360 with 1 Axes>"
      ]
     },
     "metadata": {
      "needs_background": "light"
     },
     "output_type": "display_data"
    }
   ],
   "source": [
    "plt.figure(figsize=(5, 5))\n",
    "sns.barplot(df_qtr, x='quarter_', y='total_laid_off_sum')\n",
    "plt.title('Quarterly Layoff Totals')\n",
    "plt.xlabel('Quarter')\n",
    "plt.ylabel('Total Layoff')\n",
    "plt.show()"
   ]
  },
  {
   "cell_type": "code",
   "execution_count": 45,
   "id": "7e60e811-5f4b-4877-820e-7d76691d1a74",
   "metadata": {},
   "outputs": [
    {
     "data": {
      "image/png": "[encoded data removed]",
      "text/plain": [
       "<Figure size 360x360 with 1 Axes>"
      ]
     },
     "metadata": {
      "needs_background": "light"
     },
     "output_type": "display_data"
    }
   ],
   "source": [
    "plt.figure(figsize=(5, 5))\n",
    "sns.barplot(df_qtr, x='quarter_', y='total_laid_off_count')\n",
    "plt.title('Quarterly Layoff Events')\n",
    "plt.xlabel('Quarter')\n",
    "plt.ylabel('Layoff Events')\n",
    "plt.show()"
   ]
  },
  {
   "cell_type": "markdown",
   "id": "89efdabb-7222-4ce6-a50b-dc136c5dd5c2",
   "metadata": {},
   "source": [
    "#### By Industry and Year"
   ]
  },
  {
   "cell_type": "code",
   "execution_count": 46,
   "id": "945fcfbf-e985-4bd6-a306-7c05e1af053e",
   "metadata": {},
   "outputs": [
    {
     "data": {
      "text/html": [
       "<div>\n",
       "<style scoped>\n",
       "    .dataframe tbody tr th:only-of-type {\n",
       "        vertical-align: middle;\n",
       "    }\n",
       "\n",
       "    .dataframe tbody tr th {\n",
       "        vertical-align: top;\n",
       "    }\n",
       "\n",
       "    .dataframe thead th {\n",
       "        text-align: right;\n",
       "    }\n",
       "</style>\n",
       "<table border=\"1\" class=\"dataframe\">\n",
       "  <thead>\n",
       "    <tr style=\"text-align: right;\">\n",
       "      <th>year</th>\n",
       "      <th>industry</th>\n",
       "      <th>2020</th>\n",
       "      <th>2021</th>\n",
       "      <th>2022</th>\n",
       "    </tr>\n",
       "  </thead>\n",
       "  <tbody>\n",
       "    <tr>\n",
       "      <th>0</th>\n",
       "      <td>Transportation</td>\n",
       "      <td>14656.0</td>\n",
       "      <td>200.0</td>\n",
       "      <td>13789.0</td>\n",
       "    </tr>\n",
       "    <tr>\n",
       "      <th>1</th>\n",
       "      <td>Consumer</td>\n",
       "      <td>6063.0</td>\n",
       "      <td>3600.0</td>\n",
       "      <td>18831.0</td>\n",
       "    </tr>\n",
       "    <tr>\n",
       "      <th>2</th>\n",
       "      <td>Retail</td>\n",
       "      <td>8002.0</td>\n",
       "      <td>288.0</td>\n",
       "      <td>19131.0</td>\n",
       "    </tr>\n",
       "    <tr>\n",
       "      <th>3</th>\n",
       "      <td>Finance</td>\n",
       "      <td>8624.0</td>\n",
       "      <td>0.0</td>\n",
       "      <td>11187.0</td>\n",
       "    </tr>\n",
       "    <tr>\n",
       "      <th>4</th>\n",
       "      <td>Food</td>\n",
       "      <td>6218.0</td>\n",
       "      <td>2644.0</td>\n",
       "      <td>10544.0</td>\n",
       "    </tr>\n",
       "  </tbody>\n",
       "</table>\n",
       "</div>"
      ],
      "text/plain": [
       "year        industry     2020    2021     2022\n",
       "0     Transportation  14656.0   200.0  13789.0\n",
       "1           Consumer   6063.0  3600.0  18831.0\n",
       "2             Retail   8002.0   288.0  19131.0\n",
       "3            Finance   8624.0     0.0  11187.0\n",
       "4               Food   6218.0  2644.0  10544.0"
      ]
     },
     "execution_count": 46,
     "metadata": {},
     "output_type": "execute_result"
    }
   ],
   "source": [
    "df_ind2 = df.fillna(0).groupby(['industry', 'year']).agg({'total_laid_off': 'sum'})\n",
    "df_ind2 = df_ind2.reset_index()\n",
    "df_ind2 = df_ind2.pivot(index='industry', columns='year', values='total_laid_off')\n",
    "df_ind2 = df_ind2.reindex(index = df_ind.industry).reset_index()\n",
    "df_ind2.head()"
   ]
  },
  {
   "cell_type": "code",
   "execution_count": 47,
   "id": "d76a7103-af2f-49f4-b723-7033d27ddc69",
   "metadata": {},
   "outputs": [
    {
     "data": {
      "image/png": "[encoded data removed]",
      "text/plain": [
       "<Figure size 864x360 with 1 Axes>"
      ]
     },
     "metadata": {
      "needs_background": "light"
     },
     "output_type": "display_data"
    }
   ],
   "source": [
    "df_ind2.head(10).plot.bar(stacked=True, figsize=(12, 5))\n",
    "plt.title('Industry Total Layoffs by Year')\n",
    "plt.xlabel('Industry')\n",
    "plt.ylabel('Total Layoffs')\n",
    "plt.xticks(plt.gca().get_xticks(), labels=df_ind2.head(10).industry, rotation=0)\n",
    "plt.show()"
   ]
  },
  {
   "cell_type": "markdown",
   "id": "3349956a-2e26-477b-8c49-0873b9e2c02f",
   "metadata": {},
   "source": [
    "#### By Company and Year"
   ]
  },
  {
   "cell_type": "code",
   "execution_count": 48,
   "id": "1eaa8246-dd3f-4feb-bb36-fff38f162a6e",
   "metadata": {},
   "outputs": [
    {
     "data": {
      "text/html": [
       "<div>\n",
       "<style scoped>\n",
       "    .dataframe tbody tr th:only-of-type {\n",
       "        vertical-align: middle;\n",
       "    }\n",
       "\n",
       "    .dataframe tbody tr th {\n",
       "        vertical-align: top;\n",
       "    }\n",
       "\n",
       "    .dataframe thead th {\n",
       "        text-align: right;\n",
       "    }\n",
       "</style>\n",
       "<table border=\"1\" class=\"dataframe\">\n",
       "  <thead>\n",
       "    <tr style=\"text-align: right;\">\n",
       "      <th>year</th>\n",
       "      <th>company</th>\n",
       "      <th>2020</th>\n",
       "      <th>2021</th>\n",
       "      <th>2022</th>\n",
       "    </tr>\n",
       "  </thead>\n",
       "  <tbody>\n",
       "    <tr>\n",
       "      <th>0</th>\n",
       "      <td>Meta</td>\n",
       "      <td>NaN</td>\n",
       "      <td>NaN</td>\n",
       "      <td>11000.0</td>\n",
       "    </tr>\n",
       "    <tr>\n",
       "      <th>1</th>\n",
       "      <td>Amazon</td>\n",
       "      <td>NaN</td>\n",
       "      <td>NaN</td>\n",
       "      <td>10000.0</td>\n",
       "    </tr>\n",
       "    <tr>\n",
       "      <th>2</th>\n",
       "      <td>Uber</td>\n",
       "      <td>7525.0</td>\n",
       "      <td>NaN</td>\n",
       "      <td>60.0</td>\n",
       "    </tr>\n",
       "    <tr>\n",
       "      <th>3</th>\n",
       "      <td>Booking.com</td>\n",
       "      <td>4375.0</td>\n",
       "      <td>NaN</td>\n",
       "      <td>226.0</td>\n",
       "    </tr>\n",
       "    <tr>\n",
       "      <th>4</th>\n",
       "      <td>Cisco</td>\n",
       "      <td>NaN</td>\n",
       "      <td>NaN</td>\n",
       "      <td>4100.0</td>\n",
       "    </tr>\n",
       "  </tbody>\n",
       "</table>\n",
       "</div>"
      ],
      "text/plain": [
       "year      company    2020  2021     2022\n",
       "0            Meta     NaN   NaN  11000.0\n",
       "1          Amazon     NaN   NaN  10000.0\n",
       "2            Uber  7525.0   NaN     60.0\n",
       "3     Booking.com  4375.0   NaN    226.0\n",
       "4           Cisco     NaN   NaN   4100.0"
      ]
     },
     "execution_count": 48,
     "metadata": {},
     "output_type": "execute_result"
    }
   ],
   "source": [
    "df_com2 = df.fillna(0).groupby(['company', 'year']).agg({'total_laid_off': 'sum'})\n",
    "df_com2 = df_com2.reset_index()\n",
    "df_com2 = df_com2.pivot(index='company', columns='year', values='total_laid_off')\n",
    "df_com2 = df_com2.reindex(index = df_com.company).reset_index()\n",
    "df_com2.head()"
   ]
  },
  {
   "cell_type": "code",
   "execution_count": 49,
   "id": "c309b1c0-6db3-4ef4-a7d5-6434a2462a0f",
   "metadata": {},
   "outputs": [
    {
     "data": {
      "image/png": "[encoded data removed]",
      "text/plain": [
       "<Figure size 864x360 with 1 Axes>"
      ]
     },
     "metadata": {
      "needs_background": "light"
     },
     "output_type": "display_data"
    }
   ],
   "source": [
    "df_com2.head(10).plot.bar(stacked=True, figsize=(12, 5))\n",
    "plt.title('Company Total Layoffs by Year')\n",
    "plt.xlabel('Company')\n",
    "plt.ylabel('Total Layoffs')\n",
    "plt.xticks(plt.gca().get_xticks(), labels=df_com2.head(10).company, rotation=0)\n",
    "plt.show()"
   ]
  },
  {
   "cell_type": "code",
   "execution_count": null,
   "id": "2e271e55-9ef3-4daf-99d0-9751057d3b7c",
   "metadata": {},
   "outputs": [],
   "source": []
  }
 ],
 "metadata": {
  "kernelspec": {
   "display_name": "Python 3 (ipykernel)",
   "language": "python",
   "name": "python3"
  },
  "language_info": {
   "codemirror_mode": {
    "name": "ipython",
    "version": 3
   },
   "file_extension": ".py",
   "mimetype": "text/x-python",
   "name": "python",
   "nbconvert_exporter": "python",
   "pygments_lexer": "ipython3",
   "version": "3.9.7"
  }
 },
 "nbformat": 4,
 "nbformat_minor": 5
}
